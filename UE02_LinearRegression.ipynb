{
  "nbformat": 4,
  "nbformat_minor": 0,
  "metadata": {
    "colab": {
      "provenance": [],
      "authorship_tag": "ABX9TyP6Z4CHnZD3npcJBr4j6GJq",
      "include_colab_link": true
    },
    "kernelspec": {
      "name": "python3",
      "display_name": "Python 3"
    },
    "language_info": {
      "name": "python"
    }
  },
  "cells": [
    {
      "cell_type": "markdown",
      "metadata": {
        "id": "view-in-github",
        "colab_type": "text"
      },
      "source": [
        "<a href=\"https://colab.research.google.com/github/zeynepsenatatli/MachineLearningExercises/blob/main/UE02_LinearRegression.ipynb\" target=\"_parent\"><img src=\"https://colab.research.google.com/assets/colab-badge.svg\" alt=\"Open In Colab\"/></a>"
      ]
    },
    {
      "cell_type": "markdown",
      "source": [
        "**Linear Regression**\n",
        "<br>\n",
        "**QUESTION:** Generate a dataset using any quadratic or third-degree polynomial function. It should contain at least 100 data samples. Implement the following steps;\n",
        "* Use linear regression closed-form solution or Singular Value Decomposition\n",
        "(SVD) methods (eg, using the least-squares package) to solve the regression problem.\n",
        "* Use regularized linear models (ridge, LASSO and ElasticNet) to solve the regression problem.\n",
        "* Compare and interpret the results. You are allowed to use scipy and scikit-learn tools.\n",
        "\n",
        "\n",
        "\n"
      ],
      "metadata": {
        "id": "ld56eJ2VUYv4"
      }
    },
    {
      "cell_type": "code",
      "source": [
        "import numpy as np\n",
        "import matplotlib.pyplot as plt\n",
        "from sklearn.preprocessing import add_dummy_feature"
      ],
      "metadata": {
        "id": "NeM8HHfSUWno"
      },
      "execution_count": null,
      "outputs": []
    },
    {
      "cell_type": "code",
      "execution_count": null,
      "metadata": {
        "id": "QHuYr519Rpbx"
      },
      "outputs": [],
      "source": [
        "np.random.seed(42)\n",
        "\n",
        "# Generate dataset using a quadratic function\n",
        "m = 100\n",
        "X = 2 * np.random.rand(m, 1)\n",
        "y = 5 + 2*X**2 + np.random.randn(m, 1)  # 2x^2 + 5"
      ]
    },
    {
      "cell_type": "code",
      "source": [
        "plt.figure(figsize=(8,4))\n",
        "plt.grid(True)\n",
        "\n",
        "plt.scatter(X, y, s=10)\n",
        "\n",
        "plt.xlabel('x1')\n",
        "plt.ylabel('y')\n",
        "plt.show()"
      ],
      "metadata": {
        "colab": {
          "base_uri": "https://localhost:8080/",
          "height": 282
        },
        "id": "GL1KjAB5UASK",
        "outputId": "f89efd6e-c4d2-4afb-83d2-2a1bf53ff13f"
      },
      "execution_count": null,
      "outputs": [
        {
          "output_type": "display_data",
          "data": {
            "text/plain": [
              "<Figure size 576x288 with 1 Axes>"
            ],
            "image/png": "[encoded data removed]"
          },
          "metadata": {
            "needs_background": "light"
          }
        }
      ]
    },
    {
      "cell_type": "markdown",
      "source": [
        "### Normal Equation"
      ],
      "metadata": {
        "id": "-7ceDllXYC8r"
      }
    },
    {
      "cell_type": "code",
      "source": [
        "X_b = add_dummy_feature(X) # add x0 = 1 to each instance\n",
        "\n",
        "theta_best = np.linalg.inv(X_b.T @ X_b) @ X_b.T @ y\n",
        "print(theta_best)"
      ],
      "metadata": {
        "colab": {
          "base_uri": "https://localhost:8080/"
        },
        "id": "6XjRB13LYCU4",
        "outputId": "5a582dca-0d5f-47b5-c245-5c8add9260e9"
      },
      "execution_count": null,
      "outputs": [
        {
          "output_type": "stream",
          "name": "stdout",
          "text": [
            "[[4.02312165]\n",
            " [3.6637794 ]]\n"
          ]
        }
      ]
    },
    {
      "cell_type": "code",
      "source": [
        "X_new = np.array([[0], [1], [2]])\n",
        "X_new_b = add_dummy_feature(X_new) # add x0 = 1 to each instance\n",
        "y_predict = X_new_b @ theta_best\n",
        "y_predict"
      ],
      "metadata": {
        "colab": {
          "base_uri": "https://localhost:8080/"
        },
        "id": "xIk1SoRvHaqp",
        "outputId": "a60ff0e2-625b-4552-8e8e-190fe2dee1dc"
      },
      "execution_count": null,
      "outputs": [
        {
          "output_type": "execute_result",
          "data": {
            "text/plain": [
              "array([[ 4.02312165],\n",
              "       [ 7.68690105],\n",
              "       [11.35068045]])"
            ]
          },
          "metadata": {},
          "execution_count": 5
        }
      ]
    },
    {
      "cell_type": "code",
      "source": [
        "plt.figure(figsize=(8,4))\n",
        "plt.grid(True)\n",
        "plt.plot(X_new, y_predict, \"r-\", label=\"Predictions\")\n",
        "plt.scatter(X, y, s=10)\n",
        "plt.show()"
      ],
      "metadata": {
        "colab": {
          "base_uri": "https://localhost:8080/",
          "height": 268
        },
        "id": "wxfqFiBaLIOt",
        "outputId": "049e3a40-4367-4419-c372-129622d4672f"
      },
      "execution_count": null,
      "outputs": [
        {
          "output_type": "display_data",
          "data": {
            "text/plain": [
              "<Figure size 576x288 with 1 Axes>"
            ],
            "image/png": "[encoded data removed]"
          },
          "metadata": {
            "needs_background": "light"
          }
        }
      ]
    },
    {
      "cell_type": "markdown",
      "source": [
        "### Ridge Regression"
      ],
      "metadata": {
        "id": "VI3Gm0ACxvV3"
      }
    },
    {
      "cell_type": "code",
      "source": [
        "from sklearn.linear_model import Ridge\n",
        "ridge_reg = Ridge(alpha=1, solver=\"cholesky\")\n",
        "ridge_reg.fit(X, y)\n",
        "coefficients = ridge_reg.coef_\n",
        "intercept = ridge_reg.intercept_\n",
        "\n",
        "print(intercept)\n",
        "print(coefficients)"
      ],
      "metadata": {
        "id": "fEzchjnKRPo7",
        "colab": {
          "base_uri": "https://localhost:8080/"
        },
        "outputId": "806480aa-84d8-4684-d992-a6dca3c91792"
      },
      "execution_count": null,
      "outputs": [
        {
          "output_type": "stream",
          "name": "stdout",
          "text": [
            "[4.11870171]\n",
            "[[3.56213757]]\n"
          ]
        }
      ]
    },
    {
      "cell_type": "markdown",
      "source": [
        "### Lasso Regression"
      ],
      "metadata": {
        "id": "71mNq3HuzfLq"
      }
    },
    {
      "cell_type": "code",
      "source": [
        "from sklearn.linear_model import Lasso\n",
        "lasso_reg = Lasso(alpha=0.5)\n",
        "lasso_reg.fit(X, y)\n",
        "coefficients = lasso_reg.coef_\n",
        "intercept = lasso_reg.intercept_\n",
        "\n",
        "print(intercept)\n",
        "print(coefficients)"
      ],
      "metadata": {
        "colab": {
          "base_uri": "https://localhost:8080/"
        },
        "id": "fk8hK6eozfWN",
        "outputId": "0fe5f272-9020-4ffc-ed53-718609f609f6"
      },
      "execution_count": null,
      "outputs": [
        {
          "output_type": "stream",
          "name": "stdout",
          "text": [
            "[5.36473271]\n",
            "[2.23708225]\n"
          ]
        }
      ]
    },
    {
      "cell_type": "markdown",
      "source": [
        "### Elastic Net"
      ],
      "metadata": {
        "id": "s-HLKxwO0Bm4"
      }
    },
    {
      "cell_type": "code",
      "source": [
        "from sklearn.linear_model import ElasticNet\n",
        "elastic_net = ElasticNet(alpha=0.5, l1_ratio=0.5)\n",
        "elastic_net.fit(X, y)\n",
        "coefficients = elastic_net.coef_\n",
        "intercept = elastic_net.intercept_\n",
        "\n",
        "print(intercept)\n",
        "print(coefficients)"
      ],
      "metadata": {
        "colab": {
          "base_uri": "https://localhost:8080/"
        },
        "id": "8xaqrWr60Bs6",
        "outputId": "4cc9257d-42c8-4968-e2b2-94df85eab02c"
      },
      "execution_count": null,
      "outputs": [
        {
          "output_type": "stream",
          "name": "stdout",
          "text": [
            "[5.84907175]\n",
            "[1.72202602]\n"
          ]
        }
      ]
    },
    {
      "cell_type": "markdown",
      "source": [
        "### Error Difference"
      ],
      "metadata": {
        "id": "ux0R5qXlPH0w"
      }
    },
    {
      "cell_type": "code",
      "source": [
        "from sklearn.metrics import mean_squared_error\n",
        "\n",
        "# Linear regression\n",
        "lin_reg_pred = X_b @ theta_best\n",
        "lin_mse = mean_squared_error(y, lin_reg_pred)\n",
        "\n",
        "# Ridge regression\n",
        "ridge_reg_pred = ridge_reg.predict(X)\n",
        "ridge_mse = mean_squared_error(y, ridge_reg_pred)\n",
        "\n",
        "# Lasso regression\n",
        "lasso_reg_pred = lasso_reg.predict(X)\n",
        "lasso_mse = mean_squared_error(y, lasso_reg_pred)\n",
        "\n",
        "# Elastic Net regression\n",
        "elastic_reg_pred = elastic_net.predict(X)\n",
        "elastic_mse = mean_squared_error(y, elastic_reg_pred)"
      ],
      "metadata": {
        "id": "yOAEJztQO6D4"
      },
      "execution_count": null,
      "outputs": []
    },
    {
      "cell_type": "code",
      "source": [
        "print(\"Linear Regression MSE:\", lin_mse)\n",
        "print(\"Ridge Regression MSE:\", ridge_mse)\n",
        "print(\"Lasso Regression MSE:\", lasso_mse)\n",
        "print(\"Elastic Net Regression MSE:\", elastic_mse)"
      ],
      "metadata": {
        "colab": {
          "base_uri": "https://localhost:8080/"
        },
        "id": "GOV6oMBs44J3",
        "outputId": "dbc6ba41-ec14-4b70-de83-060e03770cf7"
      },
      "execution_count": null,
      "outputs": [
        {
          "output_type": "stream",
          "name": "stdout",
          "text": [
            "Linear Regression MSE: 1.3571066102061033\n",
            "Ridge Regression MSE: 1.3607272320376165\n",
            "Lasso Regression MSE: 2.0704551868934256\n",
            "Elastic Net Regression MSE: 2.6784824164489436\n"
          ]
        }
      ]
    },
    {
      "cell_type": "markdown",
      "source": [
        "### Graph"
      ],
      "metadata": {
        "id": "JVFWEQOuPX5w"
      }
    },
    {
      "cell_type": "code",
      "source": [
        "plt.figure(figsize=(10,6))\n",
        "plt.grid(True)\n",
        "plt.scatter(X, y, s=10)\n",
        "plt.plot(X, lin_reg_pred, \"b\", label=\"Linear Reg\")\n",
        "plt.plot(X, ridge_reg_pred, \"r--\", label=\"Ridge Reg\")\n",
        "plt.plot(X, lasso_reg_pred, \"m\", label=\"Lasso Reg\")\n",
        "plt.plot(X, elastic_reg_pred, \"g\", label=\"Elastic Net\")\n",
        "plt.legend(loc=\"upper left\")\n",
        "plt.show()"
      ],
      "metadata": {
        "colab": {
          "base_uri": "https://localhost:8080/",
          "height": 376
        },
        "id": "O-nXfguh6VqV",
        "outputId": "7fb8ae32-d595-4659-ed59-f39e5329d91e"
      },
      "execution_count": null,
      "outputs": [
        {
          "output_type": "display_data",
          "data": {
            "text/plain": [
              "<Figure size 720x432 with 1 Axes>"
            ],
            "image/png": "[encoded data removed]"
          },
          "metadata": {
            "needs_background": "light"
          }
        }
      ]
    }
  ]
}