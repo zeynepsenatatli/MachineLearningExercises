{
  "nbformat": 4,
  "nbformat_minor": 0,
  "metadata": {
    "colab": {
      "provenance": [],
      "authorship_tag": "ABX9TyNgoGUEcbcq0eElf62rLxLq",
      "include_colab_link": true
    },
    "kernelspec": {
      "name": "python3",
      "display_name": "Python 3"
    },
    "language_info": {
      "name": "python"
    }
  },
  "cells": [
    {
      "cell_type": "markdown",
      "metadata": {
        "id": "view-in-github",
        "colab_type": "text"
      },
      "source": [
        "<a href=\"https://colab.research.google.com/github/zeynepsenatatli/MachineLearningExercises/blob/main/UE03_C3E3.ipynb\" target=\"_parent\"><img src=\"https://colab.research.google.com/assets/colab-badge.svg\" alt=\"Open In Colab\"/></a>"
      ]
    },
    {
      "cell_type": "markdown",
      "source": [
        "#Titanic Data"
      ],
      "metadata": {
        "id": "LuhccHX6zUA6"
      }
    },
    {
      "cell_type": "markdown",
      "source": [
        "### **Data Loading**"
      ],
      "metadata": {
        "id": "X9mSHH5GOiVt"
      }
    },
    {
      "cell_type": "markdown",
      "source": [
        "### Get datas from downloaded tgz folder"
      ],
      "metadata": {
        "id": "m4qAthr6yf-M"
      }
    },
    {
      "cell_type": "code",
      "source": [
        "import tarfile\n",
        "my_tar = tarfile.open('/content/titanic.tgz')\n",
        "my_tar.extractall()\n",
        "my_tar.close()\n",
        "\n",
        "import pandas as pd\n",
        "\n",
        "train_data = pd.read_csv('/content/titanic/train.csv')\n",
        "test_data = pd.read_csv('/content/titanic/test.csv')"
      ],
      "metadata": {
        "id": "7yEmTmuLv0ax"
      },
      "execution_count": null,
      "outputs": []
    },
    {
      "cell_type": "code",
      "source": [
        "train_data.head()"
      ],
      "metadata": {
        "colab": {
          "base_uri": "https://localhost:8080/",
          "height": 206
        },
        "id": "wntB8HbizOWr",
        "outputId": "15ad5a07-5310-476c-c42e-3ead96da3032"
      },
      "execution_count": null,
      "outputs": [
        {
          "output_type": "execute_result",
          "data": {
            "text/plain": [
              "   PassengerId  Survived  Pclass  \\\n",
              "0            1         0       3   \n",
              "1            2         1       1   \n",
              "2            3         1       3   \n",
              "3            4         1       1   \n",
              "4            5         0       3   \n",
              "\n",
              "                                                Name     Sex   Age  SibSp  \\\n",
              "0                            Braund, Mr. Owen Harris    male  22.0      1   \n",
              "1  Cumings, Mrs. John Bradley (Florence Briggs Th...  female  38.0      1   \n",
              "2                             Heikkinen, Miss. Laina  female  26.0      0   \n",
              "3       Futrelle, Mrs. Jacques Heath (Lily May Peel)  female  35.0      1   \n",
              "4                           Allen, Mr. William Henry    male  35.0      0   \n",
              "\n",
              "   Parch            Ticket     Fare Cabin Embarked  \n",
              "0      0         A/5 21171   7.2500   NaN        S  \n",
              "1      0          PC 17599  71.2833   C85        C  \n",
              "2      0  STON/O2. 3101282   7.9250   NaN        S  \n",
              "3      0            113803  53.1000  C123        S  \n",
              "4      0            373450   8.0500   NaN        S  "
            ],
            "text/html": [
              "\n",
              "  <div id=\"df-6e793d82-5a7a-43e4-8f29-18bfa856503a\">\n",
              "    <div class=\"colab-df-container\">\n",
              "      <div>\n",
              "<style scoped>\n",
              "    .dataframe tbody tr th:only-of-type {\n",
              "        vertical-align: middle;\n",
              "    }\n",
              "\n",
              "    .dataframe tbody tr th {\n",
              "        vertical-align: top;\n",
              "    }\n",
              "\n",
              "    .dataframe thead th {\n",
              "        text-align: right;\n",
              "    }\n",
              "</style>\n",
              "<table border=\"1\" class=\"dataframe\">\n",
              "  <thead>\n",
              "    <tr style=\"text-align: right;\">\n",
              "      <th></th>\n",
              "      <th>PassengerId</th>\n",
              "      <th>Survived</th>\n",
              "      <th>Pclass</th>\n",
              "      <th>Name</th>\n",
              "      <th>Sex</th>\n",
              "      <th>Age</th>\n",
              "      <th>SibSp</th>\n",
              "      <th>Parch</th>\n",
              "      <th>Ticket</th>\n",
              "      <th>Fare</th>\n",
              "      <th>Cabin</th>\n",
              "      <th>Embarked</th>\n",
              "    </tr>\n",
              "  </thead>\n",
              "  <tbody>\n",
              "    <tr>\n",
              "      <th>0</th>\n",
              "      <td>1</td>\n",
              "      <td>0</td>\n",
              "      <td>3</td>\n",
              "      <td>Braund, Mr. Owen Harris</td>\n",
              "      <td>male</td>\n",
              "      <td>22.0</td>\n",
              "      <td>1</td>\n",
              "      <td>0</td>\n",
              "      <td>A/5 21171</td>\n",
              "      <td>7.2500</td>\n",
              "      <td>NaN</td>\n",
              "      <td>S</td>\n",
              "    </tr>\n",
              "    <tr>\n",
              "      <th>1</th>\n",
              "      <td>2</td>\n",
              "      <td>1</td>\n",
              "      <td>1</td>\n",
              "      <td>Cumings, Mrs. John Bradley (Florence Briggs Th...</td>\n",
              "      <td>female</td>\n",
              "      <td>38.0</td>\n",
              "      <td>1</td>\n",
              "      <td>0</td>\n",
              "      <td>PC 17599</td>\n",
              "      <td>71.2833</td>\n",
              "      <td>C85</td>\n",
              "      <td>C</td>\n",
              "    </tr>\n",
              "    <tr>\n",
              "      <th>2</th>\n",
              "      <td>3</td>\n",
              "      <td>1</td>\n",
              "      <td>3</td>\n",
              "      <td>Heikkinen, Miss. Laina</td>\n",
              "      <td>female</td>\n",
              "      <td>26.0</td>\n",
              "      <td>0</td>\n",
              "      <td>0</td>\n",
              "      <td>STON/O2. 3101282</td>\n",
              "      <td>7.9250</td>\n",
              "      <td>NaN</td>\n",
              "      <td>S</td>\n",
              "    </tr>\n",
              "    <tr>\n",
              "      <th>3</th>\n",
              "      <td>4</td>\n",
              "      <td>1</td>\n",
              "      <td>1</td>\n",
              "      <td>Futrelle, Mrs. Jacques Heath (Lily May Peel)</td>\n",
              "      <td>female</td>\n",
              "      <td>35.0</td>\n",
              "      <td>1</td>\n",
              "      <td>0</td>\n",
              "      <td>113803</td>\n",
              "      <td>53.1000</td>\n",
              "      <td>C123</td>\n",
              "      <td>S</td>\n",
              "    </tr>\n",
              "    <tr>\n",
              "      <th>4</th>\n",
              "      <td>5</td>\n",
              "      <td>0</td>\n",
              "      <td>3</td>\n",
              "      <td>Allen, Mr. William Henry</td>\n",
              "      <td>male</td>\n",
              "      <td>35.0</td>\n",
              "      <td>0</td>\n",
              "      <td>0</td>\n",
              "      <td>373450</td>\n",
              "      <td>8.0500</td>\n",
              "      <td>NaN</td>\n",
              "      <td>S</td>\n",
              "    </tr>\n",
              "  </tbody>\n",
              "</table>\n",
              "</div>\n",
              "      <button class=\"colab-df-convert\" onclick=\"convertToInteractive('df-6e793d82-5a7a-43e4-8f29-18bfa856503a')\"\n",
              "              title=\"Convert this dataframe to an interactive table.\"\n",
              "              style=\"display:none;\">\n",
              "        \n",
              "  <svg xmlns=\"http://www.w3.org/2000/svg\" height=\"24px\"viewBox=\"0 0 24 24\"\n",
              "       width=\"24px\">\n",
              "    <path d=\"M0 0h24v24H0V0z\" fill=\"none\"/>\n",
              "    <path d=\"M18.56 5.44l.94 2.06.94-2.06 2.06-.94-2.06-.94-.94-2.06-.94 2.06-2.06.94zm-11 1L8.5 8.5l.94-2.06 2.06-.94-2.06-.94L8.5 2.5l-.94 2.06-2.06.94zm10 10l.94 2.06.94-2.06 2.06-.94-2.06-.94-.94-2.06-.94 2.06-2.06.94z\"/><path d=\"M17.41 7.96l-1.37-1.37c-.4-.4-.92-.59-1.43-.59-.52 0-1.04.2-1.43.59L10.3 9.45l-7.72 7.72c-.78.78-.78 2.05 0 2.83L4 21.41c.39.39.9.59 1.41.59.51 0 1.02-.2 1.41-.59l7.78-7.78 2.81-2.81c.8-.78.8-2.07 0-2.86zM5.41 20L4 18.59l7.72-7.72 1.47 1.35L5.41 20z\"/>\n",
              "  </svg>\n",
              "      </button>\n",
              "      \n",
              "  <style>\n",
              "    .colab-df-container {\n",
              "      display:flex;\n",
              "      flex-wrap:wrap;\n",
              "      gap: 12px;\n",
              "    }\n",
              "\n",
              "    .colab-df-convert {\n",
              "      background-color: #E8F0FE;\n",
              "      border: none;\n",
              "      border-radius: 50%;\n",
              "      cursor: pointer;\n",
              "      display: none;\n",
              "      fill: #1967D2;\n",
              "      height: 32px;\n",
              "      padding: 0 0 0 0;\n",
              "      width: 32px;\n",
              "    }\n",
              "\n",
              "    .colab-df-convert:hover {\n",
              "      background-color: #E2EBFA;\n",
              "      box-shadow: 0px 1px 2px rgba(60, 64, 67, 0.3), 0px 1px 3px 1px rgba(60, 64, 67, 0.15);\n",
              "      fill: #174EA6;\n",
              "    }\n",
              "\n",
              "    [theme=dark] .colab-df-convert {\n",
              "      background-color: #3B4455;\n",
              "      fill: #D2E3FC;\n",
              "    }\n",
              "\n",
              "    [theme=dark] .colab-df-convert:hover {\n",
              "      background-color: #434B5C;\n",
              "      box-shadow: 0px 1px 3px 1px rgba(0, 0, 0, 0.15);\n",
              "      filter: drop-shadow(0px 1px 2px rgba(0, 0, 0, 0.3));\n",
              "      fill: #FFFFFF;\n",
              "    }\n",
              "  </style>\n",
              "\n",
              "      <script>\n",
              "        const buttonEl =\n",
              "          document.querySelector('#df-6e793d82-5a7a-43e4-8f29-18bfa856503a button.colab-df-convert');\n",
              "        buttonEl.style.display =\n",
              "          google.colab.kernel.accessAllowed ? 'block' : 'none';\n",
              "\n",
              "        async function convertToInteractive(key) {\n",
              "          const element = document.querySelector('#df-6e793d82-5a7a-43e4-8f29-18bfa856503a');\n",
              "          const dataTable =\n",
              "            await google.colab.kernel.invokeFunction('convertToInteractive',\n",
              "                                                     [key], {});\n",
              "          if (!dataTable) return;\n",
              "\n",
              "          const docLinkHtml = 'Like what you see? Visit the ' +\n",
              "            '<a target=\"_blank\" href=https://colab.research.google.com/notebooks/data_table.ipynb>data table notebook</a>'\n",
              "            + ' to learn more about interactive tables.';\n",
              "          element.innerHTML = '';\n",
              "          dataTable['output_type'] = 'display_data';\n",
              "          await google.colab.output.renderOutput(dataTable, element);\n",
              "          const docLink = document.createElement('div');\n",
              "          docLink.innerHTML = docLinkHtml;\n",
              "          element.appendChild(docLink);\n",
              "        }\n",
              "      </script>\n",
              "    </div>\n",
              "  </div>\n",
              "  "
            ]
          },
          "metadata": {},
          "execution_count": 4
        }
      ]
    },
    {
      "cell_type": "markdown",
      "source": [
        "### Function to load data from github url (without download)"
      ],
      "metadata": {
        "id": "Rtpf4jFNxvsZ"
      }
    },
    {
      "cell_type": "code",
      "execution_count": null,
      "metadata": {
        "id": "a9sQWQ4HvRmZ"
      },
      "outputs": [],
      "source": [
        "from pathlib import Path\n",
        "import pandas as pd\n",
        "import tarfile\n",
        "import urllib.request\n",
        "\n",
        "def load_titanic_data():\n",
        "    tarball_path = Path(\"datasets/titanic.tgz\")\n",
        "    if not tarball_path.is_file():\n",
        "        Path(\"datasets\").mkdir(parents=True, exist_ok=True)\n",
        "        url = \"https://github.com/ageron/data/raw/main/titanic.tgz\"\n",
        "        urllib.request.urlretrieve(url, tarball_path)\n",
        "        with tarfile.open(tarball_path) as titanic_tarball:\n",
        "            titanic_tarball.extractall(path=\"datasets\")\n",
        "    return [pd.read_csv(Path(\"datasets/titanic\") / filename)\n",
        "            for filename in (\"train.csv\", \"test.csv\")]"
      ]
    },
    {
      "cell_type": "code",
      "source": [
        "train_data_2, test_data_2 = load_titanic_data()\n",
        "train_data_2.head()"
      ],
      "metadata": {
        "id": "AQH5minKv04n",
        "colab": {
          "base_uri": "https://localhost:8080/"
        },
        "outputId": "4c62f0f7-9d90-4e50-a697-04864e25b5ef"
      },
      "execution_count": null,
      "outputs": [
        {
          "output_type": "execute_result",
          "data": {
            "text/plain": [
              "   PassengerId  Survived  Pclass  \\\n",
              "0            1         0       3   \n",
              "1            2         1       1   \n",
              "2            3         1       3   \n",
              "3            4         1       1   \n",
              "4            5         0       3   \n",
              "\n",
              "                                                Name     Sex   Age  SibSp  \\\n",
              "0                            Braund, Mr. Owen Harris    male  22.0      1   \n",
              "1  Cumings, Mrs. John Bradley (Florence Briggs Th...  female  38.0      1   \n",
              "2                             Heikkinen, Miss. Laina  female  26.0      0   \n",
              "3       Futrelle, Mrs. Jacques Heath (Lily May Peel)  female  35.0      1   \n",
              "4                           Allen, Mr. William Henry    male  35.0      0   \n",
              "\n",
              "   Parch            Ticket     Fare Cabin Embarked  \n",
              "0      0         A/5 21171   7.2500   NaN        S  \n",
              "1      0          PC 17599  71.2833   C85        C  \n",
              "2      0  STON/O2. 3101282   7.9250   NaN        S  \n",
              "3      0            113803  53.1000  C123        S  \n",
              "4      0            373450   8.0500   NaN        S  "
            ],
            "text/html": [
              "\n",
              "  <div id=\"df-e78b00d8-f55b-4f89-9440-3073c8207033\">\n",
              "    <div class=\"colab-df-container\">\n",
              "      <div>\n",
              "<style scoped>\n",
              "    .dataframe tbody tr th:only-of-type {\n",
              "        vertical-align: middle;\n",
              "    }\n",
              "\n",
              "    .dataframe tbody tr th {\n",
              "        vertical-align: top;\n",
              "    }\n",
              "\n",
              "    .dataframe thead th {\n",
              "        text-align: right;\n",
              "    }\n",
              "</style>\n",
              "<table border=\"1\" class=\"dataframe\">\n",
              "  <thead>\n",
              "    <tr style=\"text-align: right;\">\n",
              "      <th></th>\n",
              "      <th>PassengerId</th>\n",
              "      <th>Survived</th>\n",
              "      <th>Pclass</th>\n",
              "      <th>Name</th>\n",
              "      <th>Sex</th>\n",
              "      <th>Age</th>\n",
              "      <th>SibSp</th>\n",
              "      <th>Parch</th>\n",
              "      <th>Ticket</th>\n",
              "      <th>Fare</th>\n",
              "      <th>Cabin</th>\n",
              "      <th>Embarked</th>\n",
              "    </tr>\n",
              "  </thead>\n",
              "  <tbody>\n",
              "    <tr>\n",
              "      <th>0</th>\n",
              "      <td>1</td>\n",
              "      <td>0</td>\n",
              "      <td>3</td>\n",
              "      <td>Braund, Mr. Owen Harris</td>\n",
              "      <td>male</td>\n",
              "      <td>22.0</td>\n",
              "      <td>1</td>\n",
              "      <td>0</td>\n",
              "      <td>A/5 21171</td>\n",
              "      <td>7.2500</td>\n",
              "      <td>NaN</td>\n",
              "      <td>S</td>\n",
              "    </tr>\n",
              "    <tr>\n",
              "      <th>1</th>\n",
              "      <td>2</td>\n",
              "      <td>1</td>\n",
              "      <td>1</td>\n",
              "      <td>Cumings, Mrs. John Bradley (Florence Briggs Th...</td>\n",
              "      <td>female</td>\n",
              "      <td>38.0</td>\n",
              "      <td>1</td>\n",
              "      <td>0</td>\n",
              "      <td>PC 17599</td>\n",
              "      <td>71.2833</td>\n",
              "      <td>C85</td>\n",
              "      <td>C</td>\n",
              "    </tr>\n",
              "    <tr>\n",
              "      <th>2</th>\n",
              "      <td>3</td>\n",
              "      <td>1</td>\n",
              "      <td>3</td>\n",
              "      <td>Heikkinen, Miss. Laina</td>\n",
              "      <td>female</td>\n",
              "      <td>26.0</td>\n",
              "      <td>0</td>\n",
              "      <td>0</td>\n",
              "      <td>STON/O2. 3101282</td>\n",
              "      <td>7.9250</td>\n",
              "      <td>NaN</td>\n",
              "      <td>S</td>\n",
              "    </tr>\n",
              "    <tr>\n",
              "      <th>3</th>\n",
              "      <td>4</td>\n",
              "      <td>1</td>\n",
              "      <td>1</td>\n",
              "      <td>Futrelle, Mrs. Jacques Heath (Lily May Peel)</td>\n",
              "      <td>female</td>\n",
              "      <td>35.0</td>\n",
              "      <td>1</td>\n",
              "      <td>0</td>\n",
              "      <td>113803</td>\n",
              "      <td>53.1000</td>\n",
              "      <td>C123</td>\n",
              "      <td>S</td>\n",
              "    </tr>\n",
              "    <tr>\n",
              "      <th>4</th>\n",
              "      <td>5</td>\n",
              "      <td>0</td>\n",
              "      <td>3</td>\n",
              "      <td>Allen, Mr. William Henry</td>\n",
              "      <td>male</td>\n",
              "      <td>35.0</td>\n",
              "      <td>0</td>\n",
              "      <td>0</td>\n",
              "      <td>373450</td>\n",
              "      <td>8.0500</td>\n",
              "      <td>NaN</td>\n",
              "      <td>S</td>\n",
              "    </tr>\n",
              "  </tbody>\n",
              "</table>\n",
              "</div>\n",
              "      <button class=\"colab-df-convert\" onclick=\"convertToInteractive('df-e78b00d8-f55b-4f89-9440-3073c8207033')\"\n",
              "              title=\"Convert this dataframe to an interactive table.\"\n",
              "              style=\"display:none;\">\n",
              "        \n",
              "  <svg xmlns=\"http://www.w3.org/2000/svg\" height=\"24px\"viewBox=\"0 0 24 24\"\n",
              "       width=\"24px\">\n",
              "    <path d=\"M0 0h24v24H0V0z\" fill=\"none\"/>\n",
              "    <path d=\"M18.56 5.44l.94 2.06.94-2.06 2.06-.94-2.06-.94-.94-2.06-.94 2.06-2.06.94zm-11 1L8.5 8.5l.94-2.06 2.06-.94-2.06-.94L8.5 2.5l-.94 2.06-2.06.94zm10 10l.94 2.06.94-2.06 2.06-.94-2.06-.94-.94-2.06-.94 2.06-2.06.94z\"/><path d=\"M17.41 7.96l-1.37-1.37c-.4-.4-.92-.59-1.43-.59-.52 0-1.04.2-1.43.59L10.3 9.45l-7.72 7.72c-.78.78-.78 2.05 0 2.83L4 21.41c.39.39.9.59 1.41.59.51 0 1.02-.2 1.41-.59l7.78-7.78 2.81-2.81c.8-.78.8-2.07 0-2.86zM5.41 20L4 18.59l7.72-7.72 1.47 1.35L5.41 20z\"/>\n",
              "  </svg>\n",
              "      </button>\n",
              "      \n",
              "  <style>\n",
              "    .colab-df-container {\n",
              "      display:flex;\n",
              "      flex-wrap:wrap;\n",
              "      gap: 12px;\n",
              "    }\n",
              "\n",
              "    .colab-df-convert {\n",
              "      background-color: #E8F0FE;\n",
              "      border: none;\n",
              "      border-radius: 50%;\n",
              "      cursor: pointer;\n",
              "      display: none;\n",
              "      fill: #1967D2;\n",
              "      height: 32px;\n",
              "      padding: 0 0 0 0;\n",
              "      width: 32px;\n",
              "    }\n",
              "\n",
              "    .colab-df-convert:hover {\n",
              "      background-color: #E2EBFA;\n",
              "      box-shadow: 0px 1px 2px rgba(60, 64, 67, 0.3), 0px 1px 3px 1px rgba(60, 64, 67, 0.15);\n",
              "      fill: #174EA6;\n",
              "    }\n",
              "\n",
              "    [theme=dark] .colab-df-convert {\n",
              "      background-color: #3B4455;\n",
              "      fill: #D2E3FC;\n",
              "    }\n",
              "\n",
              "    [theme=dark] .colab-df-convert:hover {\n",
              "      background-color: #434B5C;\n",
              "      box-shadow: 0px 1px 3px 1px rgba(0, 0, 0, 0.15);\n",
              "      filter: drop-shadow(0px 1px 2px rgba(0, 0, 0, 0.3));\n",
              "      fill: #FFFFFF;\n",
              "    }\n",
              "  </style>\n",
              "\n",
              "      <script>\n",
              "        const buttonEl =\n",
              "          document.querySelector('#df-e78b00d8-f55b-4f89-9440-3073c8207033 button.colab-df-convert');\n",
              "        buttonEl.style.display =\n",
              "          google.colab.kernel.accessAllowed ? 'block' : 'none';\n",
              "\n",
              "        async function convertToInteractive(key) {\n",
              "          const element = document.querySelector('#df-e78b00d8-f55b-4f89-9440-3073c8207033');\n",
              "          const dataTable =\n",
              "            await google.colab.kernel.invokeFunction('convertToInteractive',\n",
              "                                                     [key], {});\n",
              "          if (!dataTable) return;\n",
              "\n",
              "          const docLinkHtml = 'Like what you see? Visit the ' +\n",
              "            '<a target=\"_blank\" href=https://colab.research.google.com/notebooks/data_table.ipynb>data table notebook</a>'\n",
              "            + ' to learn more about interactive tables.';\n",
              "          element.innerHTML = '';\n",
              "          dataTable['output_type'] = 'display_data';\n",
              "          await google.colab.output.renderOutput(dataTable, element);\n",
              "          const docLink = document.createElement('div');\n",
              "          docLink.innerHTML = docLinkHtml;\n",
              "          element.appendChild(docLink);\n",
              "        }\n",
              "      </script>\n",
              "    </div>\n",
              "  </div>\n",
              "  "
            ]
          },
          "metadata": {},
          "execution_count": 6
        }
      ]
    },
    {
      "cell_type": "markdown",
      "source": [
        "### Exploring Data"
      ],
      "metadata": {
        "id": "zW2Vii-eO3fT"
      }
    },
    {
      "cell_type": "code",
      "source": [
        "train_data.head()"
      ],
      "metadata": {
        "colab": {
          "base_uri": "https://localhost:8080/",
          "height": 206
        },
        "id": "CB32nYjxyY9_",
        "outputId": "ca0c19a8-66ff-48e9-dd41-4192767abe2a"
      },
      "execution_count": null,
      "outputs": [
        {
          "output_type": "execute_result",
          "data": {
            "text/plain": [
              "   PassengerId  Survived  Pclass  \\\n",
              "0            1         0       3   \n",
              "1            2         1       1   \n",
              "2            3         1       3   \n",
              "3            4         1       1   \n",
              "4            5         0       3   \n",
              "\n",
              "                                                Name     Sex   Age  SibSp  \\\n",
              "0                            Braund, Mr. Owen Harris    male  22.0      1   \n",
              "1  Cumings, Mrs. John Bradley (Florence Briggs Th...  female  38.0      1   \n",
              "2                             Heikkinen, Miss. Laina  female  26.0      0   \n",
              "3       Futrelle, Mrs. Jacques Heath (Lily May Peel)  female  35.0      1   \n",
              "4                           Allen, Mr. William Henry    male  35.0      0   \n",
              "\n",
              "   Parch            Ticket     Fare Cabin Embarked  \n",
              "0      0         A/5 21171   7.2500   NaN        S  \n",
              "1      0          PC 17599  71.2833   C85        C  \n",
              "2      0  STON/O2. 3101282   7.9250   NaN        S  \n",
              "3      0            113803  53.1000  C123        S  \n",
              "4      0            373450   8.0500   NaN        S  "
            ],
            "text/html": [
              "\n",
              "  <div id=\"df-e5b4c490-7980-414f-a331-faabe76fef67\">\n",
              "    <div class=\"colab-df-container\">\n",
              "      <div>\n",
              "<style scoped>\n",
              "    .dataframe tbody tr th:only-of-type {\n",
              "        vertical-align: middle;\n",
              "    }\n",
              "\n",
              "    .dataframe tbody tr th {\n",
              "        vertical-align: top;\n",
              "    }\n",
              "\n",
              "    .dataframe thead th {\n",
              "        text-align: right;\n",
              "    }\n",
              "</style>\n",
              "<table border=\"1\" class=\"dataframe\">\n",
              "  <thead>\n",
              "    <tr style=\"text-align: right;\">\n",
              "      <th></th>\n",
              "      <th>PassengerId</th>\n",
              "      <th>Survived</th>\n",
              "      <th>Pclass</th>\n",
              "      <th>Name</th>\n",
              "      <th>Sex</th>\n",
              "      <th>Age</th>\n",
              "      <th>SibSp</th>\n",
              "      <th>Parch</th>\n",
              "      <th>Ticket</th>\n",
              "      <th>Fare</th>\n",
              "      <th>Cabin</th>\n",
              "      <th>Embarked</th>\n",
              "    </tr>\n",
              "  </thead>\n",
              "  <tbody>\n",
              "    <tr>\n",
              "      <th>0</th>\n",
              "      <td>1</td>\n",
              "      <td>0</td>\n",
              "      <td>3</td>\n",
              "      <td>Braund, Mr. Owen Harris</td>\n",
              "      <td>male</td>\n",
              "      <td>22.0</td>\n",
              "      <td>1</td>\n",
              "      <td>0</td>\n",
              "      <td>A/5 21171</td>\n",
              "      <td>7.2500</td>\n",
              "      <td>NaN</td>\n",
              "      <td>S</td>\n",
              "    </tr>\n",
              "    <tr>\n",
              "      <th>1</th>\n",
              "      <td>2</td>\n",
              "      <td>1</td>\n",
              "      <td>1</td>\n",
              "      <td>Cumings, Mrs. John Bradley (Florence Briggs Th...</td>\n",
              "      <td>female</td>\n",
              "      <td>38.0</td>\n",
              "      <td>1</td>\n",
              "      <td>0</td>\n",
              "      <td>PC 17599</td>\n",
              "      <td>71.2833</td>\n",
              "      <td>C85</td>\n",
              "      <td>C</td>\n",
              "    </tr>\n",
              "    <tr>\n",
              "      <th>2</th>\n",
              "      <td>3</td>\n",
              "      <td>1</td>\n",
              "      <td>3</td>\n",
              "      <td>Heikkinen, Miss. Laina</td>\n",
              "      <td>female</td>\n",
              "      <td>26.0</td>\n",
              "      <td>0</td>\n",
              "      <td>0</td>\n",
              "      <td>STON/O2. 3101282</td>\n",
              "      <td>7.9250</td>\n",
              "      <td>NaN</td>\n",
              "      <td>S</td>\n",
              "    </tr>\n",
              "    <tr>\n",
              "      <th>3</th>\n",
              "      <td>4</td>\n",
              "      <td>1</td>\n",
              "      <td>1</td>\n",
              "      <td>Futrelle, Mrs. Jacques Heath (Lily May Peel)</td>\n",
              "      <td>female</td>\n",
              "      <td>35.0</td>\n",
              "      <td>1</td>\n",
              "      <td>0</td>\n",
              "      <td>113803</td>\n",
              "      <td>53.1000</td>\n",
              "      <td>C123</td>\n",
              "      <td>S</td>\n",
              "    </tr>\n",
              "    <tr>\n",
              "      <th>4</th>\n",
              "      <td>5</td>\n",
              "      <td>0</td>\n",
              "      <td>3</td>\n",
              "      <td>Allen, Mr. William Henry</td>\n",
              "      <td>male</td>\n",
              "      <td>35.0</td>\n",
              "      <td>0</td>\n",
              "      <td>0</td>\n",
              "      <td>373450</td>\n",
              "      <td>8.0500</td>\n",
              "      <td>NaN</td>\n",
              "      <td>S</td>\n",
              "    </tr>\n",
              "  </tbody>\n",
              "</table>\n",
              "</div>\n",
              "      <button class=\"colab-df-convert\" onclick=\"convertToInteractive('df-e5b4c490-7980-414f-a331-faabe76fef67')\"\n",
              "              title=\"Convert this dataframe to an interactive table.\"\n",
              "              style=\"display:none;\">\n",
              "        \n",
              "  <svg xmlns=\"http://www.w3.org/2000/svg\" height=\"24px\"viewBox=\"0 0 24 24\"\n",
              "       width=\"24px\">\n",
              "    <path d=\"M0 0h24v24H0V0z\" fill=\"none\"/>\n",
              "    <path d=\"M18.56 5.44l.94 2.06.94-2.06 2.06-.94-2.06-.94-.94-2.06-.94 2.06-2.06.94zm-11 1L8.5 8.5l.94-2.06 2.06-.94-2.06-.94L8.5 2.5l-.94 2.06-2.06.94zm10 10l.94 2.06.94-2.06 2.06-.94-2.06-.94-.94-2.06-.94 2.06-2.06.94z\"/><path d=\"M17.41 7.96l-1.37-1.37c-.4-.4-.92-.59-1.43-.59-.52 0-1.04.2-1.43.59L10.3 9.45l-7.72 7.72c-.78.78-.78 2.05 0 2.83L4 21.41c.39.39.9.59 1.41.59.51 0 1.02-.2 1.41-.59l7.78-7.78 2.81-2.81c.8-.78.8-2.07 0-2.86zM5.41 20L4 18.59l7.72-7.72 1.47 1.35L5.41 20z\"/>\n",
              "  </svg>\n",
              "      </button>\n",
              "      \n",
              "  <style>\n",
              "    .colab-df-container {\n",
              "      display:flex;\n",
              "      flex-wrap:wrap;\n",
              "      gap: 12px;\n",
              "    }\n",
              "\n",
              "    .colab-df-convert {\n",
              "      background-color: #E8F0FE;\n",
              "      border: none;\n",
              "      border-radius: 50%;\n",
              "      cursor: pointer;\n",
              "      display: none;\n",
              "      fill: #1967D2;\n",
              "      height: 32px;\n",
              "      padding: 0 0 0 0;\n",
              "      width: 32px;\n",
              "    }\n",
              "\n",
              "    .colab-df-convert:hover {\n",
              "      background-color: #E2EBFA;\n",
              "      box-shadow: 0px 1px 2px rgba(60, 64, 67, 0.3), 0px 1px 3px 1px rgba(60, 64, 67, 0.15);\n",
              "      fill: #174EA6;\n",
              "    }\n",
              "\n",
              "    [theme=dark] .colab-df-convert {\n",
              "      background-color: #3B4455;\n",
              "      fill: #D2E3FC;\n",
              "    }\n",
              "\n",
              "    [theme=dark] .colab-df-convert:hover {\n",
              "      background-color: #434B5C;\n",
              "      box-shadow: 0px 1px 3px 1px rgba(0, 0, 0, 0.15);\n",
              "      filter: drop-shadow(0px 1px 2px rgba(0, 0, 0, 0.3));\n",
              "      fill: #FFFFFF;\n",
              "    }\n",
              "  </style>\n",
              "\n",
              "      <script>\n",
              "        const buttonEl =\n",
              "          document.querySelector('#df-e5b4c490-7980-414f-a331-faabe76fef67 button.colab-df-convert');\n",
              "        buttonEl.style.display =\n",
              "          google.colab.kernel.accessAllowed ? 'block' : 'none';\n",
              "\n",
              "        async function convertToInteractive(key) {\n",
              "          const element = document.querySelector('#df-e5b4c490-7980-414f-a331-faabe76fef67');\n",
              "          const dataTable =\n",
              "            await google.colab.kernel.invokeFunction('convertToInteractive',\n",
              "                                                     [key], {});\n",
              "          if (!dataTable) return;\n",
              "\n",
              "          const docLinkHtml = 'Like what you see? Visit the ' +\n",
              "            '<a target=\"_blank\" href=https://colab.research.google.com/notebooks/data_table.ipynb>data table notebook</a>'\n",
              "            + ' to learn more about interactive tables.';\n",
              "          element.innerHTML = '';\n",
              "          dataTable['output_type'] = 'display_data';\n",
              "          await google.colab.output.renderOutput(dataTable, element);\n",
              "          const docLink = document.createElement('div');\n",
              "          docLink.innerHTML = docLinkHtml;\n",
              "          element.appendChild(docLink);\n",
              "        }\n",
              "      </script>\n",
              "    </div>\n",
              "  </div>\n",
              "  "
            ]
          },
          "metadata": {},
          "execution_count": 7
        }
      ]
    },
    {
      "cell_type": "code",
      "source": [
        "train_data = train_data.set_index(\"PassengerId\")\n",
        "test_data = test_data.set_index(\"PassengerId\")\n",
        "\n",
        "train_data.head()"
      ],
      "metadata": {
        "colab": {
          "base_uri": "https://localhost:8080/",
          "height": 237
        },
        "id": "PkijAiURzo9E",
        "outputId": "d981c923-218e-48e0-eb34-867f84e12fce"
      },
      "execution_count": null,
      "outputs": [
        {
          "output_type": "execute_result",
          "data": {
            "text/plain": [
              "             Survived  Pclass  \\\n",
              "PassengerId                     \n",
              "1                   0       3   \n",
              "2                   1       1   \n",
              "3                   1       3   \n",
              "4                   1       1   \n",
              "5                   0       3   \n",
              "\n",
              "                                                          Name     Sex   Age  \\\n",
              "PassengerId                                                                    \n",
              "1                                      Braund, Mr. Owen Harris    male  22.0   \n",
              "2            Cumings, Mrs. John Bradley (Florence Briggs Th...  female  38.0   \n",
              "3                                       Heikkinen, Miss. Laina  female  26.0   \n",
              "4                 Futrelle, Mrs. Jacques Heath (Lily May Peel)  female  35.0   \n",
              "5                                     Allen, Mr. William Henry    male  35.0   \n",
              "\n",
              "             SibSp  Parch            Ticket     Fare Cabin Embarked  \n",
              "PassengerId                                                          \n",
              "1                1      0         A/5 21171   7.2500   NaN        S  \n",
              "2                1      0          PC 17599  71.2833   C85        C  \n",
              "3                0      0  STON/O2. 3101282   7.9250   NaN        S  \n",
              "4                1      0            113803  53.1000  C123        S  \n",
              "5                0      0            373450   8.0500   NaN        S  "
            ],
            "text/html": [
              "\n",
              "  <div id=\"df-e5dbee3a-c3c0-427e-933b-2f5714f53c18\">\n",
              "    <div class=\"colab-df-container\">\n",
              "      <div>\n",
              "<style scoped>\n",
              "    .dataframe tbody tr th:only-of-type {\n",
              "        vertical-align: middle;\n",
              "    }\n",
              "\n",
              "    .dataframe tbody tr th {\n",
              "        vertical-align: top;\n",
              "    }\n",
              "\n",
              "    .dataframe thead th {\n",
              "        text-align: right;\n",
              "    }\n",
              "</style>\n",
              "<table border=\"1\" class=\"dataframe\">\n",
              "  <thead>\n",
              "    <tr style=\"text-align: right;\">\n",
              "      <th></th>\n",
              "      <th>Survived</th>\n",
              "      <th>Pclass</th>\n",
              "      <th>Name</th>\n",
              "      <th>Sex</th>\n",
              "      <th>Age</th>\n",
              "      <th>SibSp</th>\n",
              "      <th>Parch</th>\n",
              "      <th>Ticket</th>\n",
              "      <th>Fare</th>\n",
              "      <th>Cabin</th>\n",
              "      <th>Embarked</th>\n",
              "    </tr>\n",
              "    <tr>\n",
              "      <th>PassengerId</th>\n",
              "      <th></th>\n",
              "      <th></th>\n",
              "      <th></th>\n",
              "      <th></th>\n",
              "      <th></th>\n",
              "      <th></th>\n",
              "      <th></th>\n",
              "      <th></th>\n",
              "      <th></th>\n",
              "      <th></th>\n",
              "      <th></th>\n",
              "    </tr>\n",
              "  </thead>\n",
              "  <tbody>\n",
              "    <tr>\n",
              "      <th>1</th>\n",
              "      <td>0</td>\n",
              "      <td>3</td>\n",
              "      <td>Braund, Mr. Owen Harris</td>\n",
              "      <td>male</td>\n",
              "      <td>22.0</td>\n",
              "      <td>1</td>\n",
              "      <td>0</td>\n",
              "      <td>A/5 21171</td>\n",
              "      <td>7.2500</td>\n",
              "      <td>NaN</td>\n",
              "      <td>S</td>\n",
              "    </tr>\n",
              "    <tr>\n",
              "      <th>2</th>\n",
              "      <td>1</td>\n",
              "      <td>1</td>\n",
              "      <td>Cumings, Mrs. John Bradley (Florence Briggs Th...</td>\n",
              "      <td>female</td>\n",
              "      <td>38.0</td>\n",
              "      <td>1</td>\n",
              "      <td>0</td>\n",
              "      <td>PC 17599</td>\n",
              "      <td>71.2833</td>\n",
              "      <td>C85</td>\n",
              "      <td>C</td>\n",
              "    </tr>\n",
              "    <tr>\n",
              "      <th>3</th>\n",
              "      <td>1</td>\n",
              "      <td>3</td>\n",
              "      <td>Heikkinen, Miss. Laina</td>\n",
              "      <td>female</td>\n",
              "      <td>26.0</td>\n",
              "      <td>0</td>\n",
              "      <td>0</td>\n",
              "      <td>STON/O2. 3101282</td>\n",
              "      <td>7.9250</td>\n",
              "      <td>NaN</td>\n",
              "      <td>S</td>\n",
              "    </tr>\n",
              "    <tr>\n",
              "      <th>4</th>\n",
              "      <td>1</td>\n",
              "      <td>1</td>\n",
              "      <td>Futrelle, Mrs. Jacques Heath (Lily May Peel)</td>\n",
              "      <td>female</td>\n",
              "      <td>35.0</td>\n",
              "      <td>1</td>\n",
              "      <td>0</td>\n",
              "      <td>113803</td>\n",
              "      <td>53.1000</td>\n",
              "      <td>C123</td>\n",
              "      <td>S</td>\n",
              "    </tr>\n",
              "    <tr>\n",
              "      <th>5</th>\n",
              "      <td>0</td>\n",
              "      <td>3</td>\n",
              "      <td>Allen, Mr. William Henry</td>\n",
              "      <td>male</td>\n",
              "      <td>35.0</td>\n",
              "      <td>0</td>\n",
              "      <td>0</td>\n",
              "      <td>373450</td>\n",
              "      <td>8.0500</td>\n",
              "      <td>NaN</td>\n",
              "      <td>S</td>\n",
              "    </tr>\n",
              "  </tbody>\n",
              "</table>\n",
              "</div>\n",
              "      <button class=\"colab-df-convert\" onclick=\"convertToInteractive('df-e5dbee3a-c3c0-427e-933b-2f5714f53c18')\"\n",
              "              title=\"Convert this dataframe to an interactive table.\"\n",
              "              style=\"display:none;\">\n",
              "        \n",
              "  <svg xmlns=\"http://www.w3.org/2000/svg\" height=\"24px\"viewBox=\"0 0 24 24\"\n",
              "       width=\"24px\">\n",
              "    <path d=\"M0 0h24v24H0V0z\" fill=\"none\"/>\n",
              "    <path d=\"M18.56 5.44l.94 2.06.94-2.06 2.06-.94-2.06-.94-.94-2.06-.94 2.06-2.06.94zm-11 1L8.5 8.5l.94-2.06 2.06-.94-2.06-.94L8.5 2.5l-.94 2.06-2.06.94zm10 10l.94 2.06.94-2.06 2.06-.94-2.06-.94-.94-2.06-.94 2.06-2.06.94z\"/><path d=\"M17.41 7.96l-1.37-1.37c-.4-.4-.92-.59-1.43-.59-.52 0-1.04.2-1.43.59L10.3 9.45l-7.72 7.72c-.78.78-.78 2.05 0 2.83L4 21.41c.39.39.9.59 1.41.59.51 0 1.02-.2 1.41-.59l7.78-7.78 2.81-2.81c.8-.78.8-2.07 0-2.86zM5.41 20L4 18.59l7.72-7.72 1.47 1.35L5.41 20z\"/>\n",
              "  </svg>\n",
              "      </button>\n",
              "      \n",
              "  <style>\n",
              "    .colab-df-container {\n",
              "      display:flex;\n",
              "      flex-wrap:wrap;\n",
              "      gap: 12px;\n",
              "    }\n",
              "\n",
              "    .colab-df-convert {\n",
              "      background-color: #E8F0FE;\n",
              "      border: none;\n",
              "      border-radius: 50%;\n",
              "      cursor: pointer;\n",
              "      display: none;\n",
              "      fill: #1967D2;\n",
              "      height: 32px;\n",
              "      padding: 0 0 0 0;\n",
              "      width: 32px;\n",
              "    }\n",
              "\n",
              "    .colab-df-convert:hover {\n",
              "      background-color: #E2EBFA;\n",
              "      box-shadow: 0px 1px 2px rgba(60, 64, 67, 0.3), 0px 1px 3px 1px rgba(60, 64, 67, 0.15);\n",
              "      fill: #174EA6;\n",
              "    }\n",
              "\n",
              "    [theme=dark] .colab-df-convert {\n",
              "      background-color: #3B4455;\n",
              "      fill: #D2E3FC;\n",
              "    }\n",
              "\n",
              "    [theme=dark] .colab-df-convert:hover {\n",
              "      background-color: #434B5C;\n",
              "      box-shadow: 0px 1px 3px 1px rgba(0, 0, 0, 0.15);\n",
              "      filter: drop-shadow(0px 1px 2px rgba(0, 0, 0, 0.3));\n",
              "      fill: #FFFFFF;\n",
              "    }\n",
              "  </style>\n",
              "\n",
              "      <script>\n",
              "        const buttonEl =\n",
              "          document.querySelector('#df-e5dbee3a-c3c0-427e-933b-2f5714f53c18 button.colab-df-convert');\n",
              "        buttonEl.style.display =\n",
              "          google.colab.kernel.accessAllowed ? 'block' : 'none';\n",
              "\n",
              "        async function convertToInteractive(key) {\n",
              "          const element = document.querySelector('#df-e5dbee3a-c3c0-427e-933b-2f5714f53c18');\n",
              "          const dataTable =\n",
              "            await google.colab.kernel.invokeFunction('convertToInteractive',\n",
              "                                                     [key], {});\n",
              "          if (!dataTable) return;\n",
              "\n",
              "          const docLinkHtml = 'Like what you see? Visit the ' +\n",
              "            '<a target=\"_blank\" href=https://colab.research.google.com/notebooks/data_table.ipynb>data table notebook</a>'\n",
              "            + ' to learn more about interactive tables.';\n",
              "          element.innerHTML = '';\n",
              "          dataTable['output_type'] = 'display_data';\n",
              "          await google.colab.output.renderOutput(dataTable, element);\n",
              "          const docLink = document.createElement('div');\n",
              "          docLink.innerHTML = docLinkHtml;\n",
              "          element.appendChild(docLink);\n",
              "        }\n",
              "      </script>\n",
              "    </div>\n",
              "  </div>\n",
              "  "
            ]
          },
          "metadata": {},
          "execution_count": 8
        }
      ]
    },
    {
      "cell_type": "code",
      "source": [
        "train_data.info()"
      ],
      "metadata": {
        "colab": {
          "base_uri": "https://localhost:8080/"
        },
        "id": "2iJf_wKAz48-",
        "outputId": "16d44bf1-2e37-4d0e-e511-6f5d784a996a"
      },
      "execution_count": null,
      "outputs": [
        {
          "output_type": "stream",
          "name": "stdout",
          "text": [
            "<class 'pandas.core.frame.DataFrame'>\n",
            "Int64Index: 891 entries, 1 to 891\n",
            "Data columns (total 11 columns):\n",
            " #   Column    Non-Null Count  Dtype  \n",
            "---  ------    --------------  -----  \n",
            " 0   Survived  891 non-null    int64  \n",
            " 1   Pclass    891 non-null    int64  \n",
            " 2   Name      891 non-null    object \n",
            " 3   Sex       891 non-null    object \n",
            " 4   Age       714 non-null    float64\n",
            " 5   SibSp     891 non-null    int64  \n",
            " 6   Parch     891 non-null    int64  \n",
            " 7   Ticket    891 non-null    object \n",
            " 8   Fare      891 non-null    float64\n",
            " 9   Cabin     204 non-null    object \n",
            " 10  Embarked  889 non-null    object \n",
            "dtypes: float64(2), int64(4), object(5)\n",
            "memory usage: 83.5+ KB\n"
          ]
        }
      ]
    },
    {
      "cell_type": "code",
      "source": [
        "train_data.describe()"
      ],
      "metadata": {
        "colab": {
          "base_uri": "https://localhost:8080/",
          "height": 300
        },
        "id": "NTaCO2o32QXd",
        "outputId": "2febf1a9-203c-4c25-928a-e21d1c65b746"
      },
      "execution_count": null,
      "outputs": [
        {
          "output_type": "execute_result",
          "data": {
            "text/plain": [
              "         Survived      Pclass         Age       SibSp       Parch        Fare\n",
              "count  891.000000  891.000000  714.000000  891.000000  891.000000  891.000000\n",
              "mean     0.383838    2.308642   29.699113    0.523008    0.381594   32.204208\n",
              "std      0.486592    0.836071   14.526507    1.102743    0.806057   49.693429\n",
              "min      0.000000    1.000000    0.416700    0.000000    0.000000    0.000000\n",
              "25%      0.000000    2.000000   20.125000    0.000000    0.000000    7.910400\n",
              "50%      0.000000    3.000000   28.000000    0.000000    0.000000   14.454200\n",
              "75%      1.000000    3.000000   38.000000    1.000000    0.000000   31.000000\n",
              "max      1.000000    3.000000   80.000000    8.000000    6.000000  512.329200"
            ],
            "text/html": [
              "\n",
              "  <div id=\"df-bd45b5b5-eadc-4366-a3a8-56fe71b58608\">\n",
              "    <div class=\"colab-df-container\">\n",
              "      <div>\n",
              "<style scoped>\n",
              "    .dataframe tbody tr th:only-of-type {\n",
              "        vertical-align: middle;\n",
              "    }\n",
              "\n",
              "    .dataframe tbody tr th {\n",
              "        vertical-align: top;\n",
              "    }\n",
              "\n",
              "    .dataframe thead th {\n",
              "        text-align: right;\n",
              "    }\n",
              "</style>\n",
              "<table border=\"1\" class=\"dataframe\">\n",
              "  <thead>\n",
              "    <tr style=\"text-align: right;\">\n",
              "      <th></th>\n",
              "      <th>Survived</th>\n",
              "      <th>Pclass</th>\n",
              "      <th>Age</th>\n",
              "      <th>SibSp</th>\n",
              "      <th>Parch</th>\n",
              "      <th>Fare</th>\n",
              "    </tr>\n",
              "  </thead>\n",
              "  <tbody>\n",
              "    <tr>\n",
              "      <th>count</th>\n",
              "      <td>891.000000</td>\n",
              "      <td>891.000000</td>\n",
              "      <td>714.000000</td>\n",
              "      <td>891.000000</td>\n",
              "      <td>891.000000</td>\n",
              "      <td>891.000000</td>\n",
              "    </tr>\n",
              "    <tr>\n",
              "      <th>mean</th>\n",
              "      <td>0.383838</td>\n",
              "      <td>2.308642</td>\n",
              "      <td>29.699113</td>\n",
              "      <td>0.523008</td>\n",
              "      <td>0.381594</td>\n",
              "      <td>32.204208</td>\n",
              "    </tr>\n",
              "    <tr>\n",
              "      <th>std</th>\n",
              "      <td>0.486592</td>\n",
              "      <td>0.836071</td>\n",
              "      <td>14.526507</td>\n",
              "      <td>1.102743</td>\n",
              "      <td>0.806057</td>\n",
              "      <td>49.693429</td>\n",
              "    </tr>\n",
              "    <tr>\n",
              "      <th>min</th>\n",
              "      <td>0.000000</td>\n",
              "      <td>1.000000</td>\n",
              "      <td>0.416700</td>\n",
              "      <td>0.000000</td>\n",
              "      <td>0.000000</td>\n",
              "      <td>0.000000</td>\n",
              "    </tr>\n",
              "    <tr>\n",
              "      <th>25%</th>\n",
              "      <td>0.000000</td>\n",
              "      <td>2.000000</td>\n",
              "      <td>20.125000</td>\n",
              "      <td>0.000000</td>\n",
              "      <td>0.000000</td>\n",
              "      <td>7.910400</td>\n",
              "    </tr>\n",
              "    <tr>\n",
              "      <th>50%</th>\n",
              "      <td>0.000000</td>\n",
              "      <td>3.000000</td>\n",
              "      <td>28.000000</td>\n",
              "      <td>0.000000</td>\n",
              "      <td>0.000000</td>\n",
              "      <td>14.454200</td>\n",
              "    </tr>\n",
              "    <tr>\n",
              "      <th>75%</th>\n",
              "      <td>1.000000</td>\n",
              "      <td>3.000000</td>\n",
              "      <td>38.000000</td>\n",
              "      <td>1.000000</td>\n",
              "      <td>0.000000</td>\n",
              "      <td>31.000000</td>\n",
              "    </tr>\n",
              "    <tr>\n",
              "      <th>max</th>\n",
              "      <td>1.000000</td>\n",
              "      <td>3.000000</td>\n",
              "      <td>80.000000</td>\n",
              "      <td>8.000000</td>\n",
              "      <td>6.000000</td>\n",
              "      <td>512.329200</td>\n",
              "    </tr>\n",
              "  </tbody>\n",
              "</table>\n",
              "</div>\n",
              "      <button class=\"colab-df-convert\" onclick=\"convertToInteractive('df-bd45b5b5-eadc-4366-a3a8-56fe71b58608')\"\n",
              "              title=\"Convert this dataframe to an interactive table.\"\n",
              "              style=\"display:none;\">\n",
              "        \n",
              "  <svg xmlns=\"http://www.w3.org/2000/svg\" height=\"24px\"viewBox=\"0 0 24 24\"\n",
              "       width=\"24px\">\n",
              "    <path d=\"M0 0h24v24H0V0z\" fill=\"none\"/>\n",
              "    <path d=\"M18.56 5.44l.94 2.06.94-2.06 2.06-.94-2.06-.94-.94-2.06-.94 2.06-2.06.94zm-11 1L8.5 8.5l.94-2.06 2.06-.94-2.06-.94L8.5 2.5l-.94 2.06-2.06.94zm10 10l.94 2.06.94-2.06 2.06-.94-2.06-.94-.94-2.06-.94 2.06-2.06.94z\"/><path d=\"M17.41 7.96l-1.37-1.37c-.4-.4-.92-.59-1.43-.59-.52 0-1.04.2-1.43.59L10.3 9.45l-7.72 7.72c-.78.78-.78 2.05 0 2.83L4 21.41c.39.39.9.59 1.41.59.51 0 1.02-.2 1.41-.59l7.78-7.78 2.81-2.81c.8-.78.8-2.07 0-2.86zM5.41 20L4 18.59l7.72-7.72 1.47 1.35L5.41 20z\"/>\n",
              "  </svg>\n",
              "      </button>\n",
              "      \n",
              "  <style>\n",
              "    .colab-df-container {\n",
              "      display:flex;\n",
              "      flex-wrap:wrap;\n",
              "      gap: 12px;\n",
              "    }\n",
              "\n",
              "    .colab-df-convert {\n",
              "      background-color: #E8F0FE;\n",
              "      border: none;\n",
              "      border-radius: 50%;\n",
              "      cursor: pointer;\n",
              "      display: none;\n",
              "      fill: #1967D2;\n",
              "      height: 32px;\n",
              "      padding: 0 0 0 0;\n",
              "      width: 32px;\n",
              "    }\n",
              "\n",
              "    .colab-df-convert:hover {\n",
              "      background-color: #E2EBFA;\n",
              "      box-shadow: 0px 1px 2px rgba(60, 64, 67, 0.3), 0px 1px 3px 1px rgba(60, 64, 67, 0.15);\n",
              "      fill: #174EA6;\n",
              "    }\n",
              "\n",
              "    [theme=dark] .colab-df-convert {\n",
              "      background-color: #3B4455;\n",
              "      fill: #D2E3FC;\n",
              "    }\n",
              "\n",
              "    [theme=dark] .colab-df-convert:hover {\n",
              "      background-color: #434B5C;\n",
              "      box-shadow: 0px 1px 3px 1px rgba(0, 0, 0, 0.15);\n",
              "      filter: drop-shadow(0px 1px 2px rgba(0, 0, 0, 0.3));\n",
              "      fill: #FFFFFF;\n",
              "    }\n",
              "  </style>\n",
              "\n",
              "      <script>\n",
              "        const buttonEl =\n",
              "          document.querySelector('#df-bd45b5b5-eadc-4366-a3a8-56fe71b58608 button.colab-df-convert');\n",
              "        buttonEl.style.display =\n",
              "          google.colab.kernel.accessAllowed ? 'block' : 'none';\n",
              "\n",
              "        async function convertToInteractive(key) {\n",
              "          const element = document.querySelector('#df-bd45b5b5-eadc-4366-a3a8-56fe71b58608');\n",
              "          const dataTable =\n",
              "            await google.colab.kernel.invokeFunction('convertToInteractive',\n",
              "                                                     [key], {});\n",
              "          if (!dataTable) return;\n",
              "\n",
              "          const docLinkHtml = 'Like what you see? Visit the ' +\n",
              "            '<a target=\"_blank\" href=https://colab.research.google.com/notebooks/data_table.ipynb>data table notebook</a>'\n",
              "            + ' to learn more about interactive tables.';\n",
              "          element.innerHTML = '';\n",
              "          dataTable['output_type'] = 'display_data';\n",
              "          await google.colab.output.renderOutput(dataTable, element);\n",
              "          const docLink = document.createElement('div');\n",
              "          docLink.innerHTML = docLinkHtml;\n",
              "          element.appendChild(docLink);\n",
              "        }\n",
              "      </script>\n",
              "    </div>\n",
              "  </div>\n",
              "  "
            ]
          },
          "metadata": {},
          "execution_count": 10
        }
      ]
    },
    {
      "cell_type": "code",
      "source": [
        "import matplotlib.pyplot as plt\n",
        "import numpy as np\n",
        "\n",
        "s = train_data[train_data['Survived'] == 1]\n",
        "us = train_data[train_data['Survived'] == 0]\n",
        "print(\"Rate of people who survived: \", 100 * s.shape[0]/(s.shape[0] + us.shape[0]))\n",
        "\n",
        "bins = np.arange(int(s[\"Age\"].min()), int(s[\"Age\"].max()), 10)\n",
        "plt.hist(s[\"Age\"], bins=bins, alpha=0.9, width = 9.5)\n",
        "# set the x-axis tick locations and labels\n",
        "plt.xticks(bins)\n",
        "plt.xlabel('Age')\n",
        "plt.ylabel('Count')\n",
        "plt.title('Age distribution for people who survived')\n",
        "\n",
        "# show the plot\n",
        "plt.show()"
      ],
      "metadata": {
        "colab": {
          "base_uri": "https://localhost:8080/",
          "height": 312
        },
        "id": "VVjKOHv17__6",
        "outputId": "dceda41e-53f4-402b-8fd5-435916901224"
      },
      "execution_count": null,
      "outputs": [
        {
          "output_type": "stream",
          "name": "stdout",
          "text": [
            "Rate of people who survived:  38.38383838383838\n"
          ]
        },
        {
          "output_type": "display_data",
          "data": {
            "text/plain": [
              "<Figure size 432x288 with 1 Axes>"
            ],
            "image/png": "[encoded data removed]"
          },
          "metadata": {
            "needs_background": "light"
          }
        }
      ]
    },
    {
      "cell_type": "markdown",
      "source": [
        "### **Training**"
      ],
      "metadata": {
        "id": "Qid0E2u-OeCa"
      }
    },
    {
      "cell_type": "markdown",
      "source": [
        "### Data Preparation"
      ],
      "metadata": {
        "id": "W2Xb-4tmtS3f"
      }
    },
    {
      "cell_type": "code",
      "source": [
        "from sklearn.pipeline import Pipeline\n",
        "from sklearn.impute import SimpleImputer\n",
        "from sklearn.preprocessing import StandardScaler\n",
        "\n",
        "# For Numerical Datas\n",
        "num_pipeline = Pipeline([\n",
        "        (\"imputer\", SimpleImputer(strategy=\"median\")),\n",
        "        (\"scaler\", StandardScaler())\n",
        "    ])"
      ],
      "metadata": {
        "id": "x49DIxV6Niik"
      },
      "execution_count": null,
      "outputs": []
    },
    {
      "cell_type": "code",
      "source": [
        "from sklearn.preprocessing import OrdinalEncoder, OneHotEncoder\n",
        "\n",
        "# For Categorical Datas\n",
        "cat_pipeline = Pipeline([\n",
        "        # (\"ordinal_encoder\", OrdinalEncoder()),\n",
        "        (\"imputer\", SimpleImputer(strategy=\"most_frequent\")),\n",
        "        (\"cat_encoder\", OneHotEncoder(sparse=False)),\n",
        "    ])"
      ],
      "metadata": {
        "id": "qE2v_D4Dj8dN"
      },
      "execution_count": null,
      "outputs": []
    },
    {
      "cell_type": "code",
      "source": [
        "from sklearn.compose import ColumnTransformer\n",
        "\n",
        "num_attribs = [\"Age\", \"Fare\"]\n",
        "cat_attribs = [\"Pclass\", \"Sex\"]\n",
        "\n",
        "preprocess_pipeline = ColumnTransformer([\n",
        "        (\"num\", num_pipeline, num_attribs),\n",
        "        (\"cat\", cat_pipeline, cat_attribs),\n",
        "    ])"
      ],
      "metadata": {
        "id": "K8qK_u4gkfKL"
      },
      "execution_count": null,
      "outputs": []
    },
    {
      "cell_type": "code",
      "source": [
        "train_data.head()"
      ],
      "metadata": {
        "colab": {
          "base_uri": "https://localhost:8080/",
          "height": 237
        },
        "id": "i7EKjLW6oxW6",
        "outputId": "ff327c19-2d76-4d9d-a423-bac3c36f98e8"
      },
      "execution_count": null,
      "outputs": [
        {
          "output_type": "execute_result",
          "data": {
            "text/plain": [
              "             Survived  Pclass  \\\n",
              "PassengerId                     \n",
              "1                   0       3   \n",
              "2                   1       1   \n",
              "3                   1       3   \n",
              "4                   1       1   \n",
              "5                   0       3   \n",
              "\n",
              "                                                          Name     Sex   Age  \\\n",
              "PassengerId                                                                    \n",
              "1                                      Braund, Mr. Owen Harris    male  22.0   \n",
              "2            Cumings, Mrs. John Bradley (Florence Briggs Th...  female  38.0   \n",
              "3                                       Heikkinen, Miss. Laina  female  26.0   \n",
              "4                 Futrelle, Mrs. Jacques Heath (Lily May Peel)  female  35.0   \n",
              "5                                     Allen, Mr. William Henry    male  35.0   \n",
              "\n",
              "             SibSp  Parch            Ticket     Fare Cabin Embarked  \n",
              "PassengerId                                                          \n",
              "1                1      0         A/5 21171   7.2500   NaN        S  \n",
              "2                1      0          PC 17599  71.2833   C85        C  \n",
              "3                0      0  STON/O2. 3101282   7.9250   NaN        S  \n",
              "4                1      0            113803  53.1000  C123        S  \n",
              "5                0      0            373450   8.0500   NaN        S  "
            ],
            "text/html": [
              "\n",
              "  <div id=\"df-b65d510f-18df-4570-87d8-16af15e2b6e2\">\n",
              "    <div class=\"colab-df-container\">\n",
              "      <div>\n",
              "<style scoped>\n",
              "    .dataframe tbody tr th:only-of-type {\n",
              "        vertical-align: middle;\n",
              "    }\n",
              "\n",
              "    .dataframe tbody tr th {\n",
              "        vertical-align: top;\n",
              "    }\n",
              "\n",
              "    .dataframe thead th {\n",
              "        text-align: right;\n",
              "    }\n",
              "</style>\n",
              "<table border=\"1\" class=\"dataframe\">\n",
              "  <thead>\n",
              "    <tr style=\"text-align: right;\">\n",
              "      <th></th>\n",
              "      <th>Survived</th>\n",
              "      <th>Pclass</th>\n",
              "      <th>Name</th>\n",
              "      <th>Sex</th>\n",
              "      <th>Age</th>\n",
              "      <th>SibSp</th>\n",
              "      <th>Parch</th>\n",
              "      <th>Ticket</th>\n",
              "      <th>Fare</th>\n",
              "      <th>Cabin</th>\n",
              "      <th>Embarked</th>\n",
              "    </tr>\n",
              "    <tr>\n",
              "      <th>PassengerId</th>\n",
              "      <th></th>\n",
              "      <th></th>\n",
              "      <th></th>\n",
              "      <th></th>\n",
              "      <th></th>\n",
              "      <th></th>\n",
              "      <th></th>\n",
              "      <th></th>\n",
              "      <th></th>\n",
              "      <th></th>\n",
              "      <th></th>\n",
              "    </tr>\n",
              "  </thead>\n",
              "  <tbody>\n",
              "    <tr>\n",
              "      <th>1</th>\n",
              "      <td>0</td>\n",
              "      <td>3</td>\n",
              "      <td>Braund, Mr. Owen Harris</td>\n",
              "      <td>male</td>\n",
              "      <td>22.0</td>\n",
              "      <td>1</td>\n",
              "      <td>0</td>\n",
              "      <td>A/5 21171</td>\n",
              "      <td>7.2500</td>\n",
              "      <td>NaN</td>\n",
              "      <td>S</td>\n",
              "    </tr>\n",
              "    <tr>\n",
              "      <th>2</th>\n",
              "      <td>1</td>\n",
              "      <td>1</td>\n",
              "      <td>Cumings, Mrs. John Bradley (Florence Briggs Th...</td>\n",
              "      <td>female</td>\n",
              "      <td>38.0</td>\n",
              "      <td>1</td>\n",
              "      <td>0</td>\n",
              "      <td>PC 17599</td>\n",
              "      <td>71.2833</td>\n",
              "      <td>C85</td>\n",
              "      <td>C</td>\n",
              "    </tr>\n",
              "    <tr>\n",
              "      <th>3</th>\n",
              "      <td>1</td>\n",
              "      <td>3</td>\n",
              "      <td>Heikkinen, Miss. Laina</td>\n",
              "      <td>female</td>\n",
              "      <td>26.0</td>\n",
              "      <td>0</td>\n",
              "      <td>0</td>\n",
              "      <td>STON/O2. 3101282</td>\n",
              "      <td>7.9250</td>\n",
              "      <td>NaN</td>\n",
              "      <td>S</td>\n",
              "    </tr>\n",
              "    <tr>\n",
              "      <th>4</th>\n",
              "      <td>1</td>\n",
              "      <td>1</td>\n",
              "      <td>Futrelle, Mrs. Jacques Heath (Lily May Peel)</td>\n",
              "      <td>female</td>\n",
              "      <td>35.0</td>\n",
              "      <td>1</td>\n",
              "      <td>0</td>\n",
              "      <td>113803</td>\n",
              "      <td>53.1000</td>\n",
              "      <td>C123</td>\n",
              "      <td>S</td>\n",
              "    </tr>\n",
              "    <tr>\n",
              "      <th>5</th>\n",
              "      <td>0</td>\n",
              "      <td>3</td>\n",
              "      <td>Allen, Mr. William Henry</td>\n",
              "      <td>male</td>\n",
              "      <td>35.0</td>\n",
              "      <td>0</td>\n",
              "      <td>0</td>\n",
              "      <td>373450</td>\n",
              "      <td>8.0500</td>\n",
              "      <td>NaN</td>\n",
              "      <td>S</td>\n",
              "    </tr>\n",
              "  </tbody>\n",
              "</table>\n",
              "</div>\n",
              "      <button class=\"colab-df-convert\" onclick=\"convertToInteractive('df-b65d510f-18df-4570-87d8-16af15e2b6e2')\"\n",
              "              title=\"Convert this dataframe to an interactive table.\"\n",
              "              style=\"display:none;\">\n",
              "        \n",
              "  <svg xmlns=\"http://www.w3.org/2000/svg\" height=\"24px\"viewBox=\"0 0 24 24\"\n",
              "       width=\"24px\">\n",
              "    <path d=\"M0 0h24v24H0V0z\" fill=\"none\"/>\n",
              "    <path d=\"M18.56 5.44l.94 2.06.94-2.06 2.06-.94-2.06-.94-.94-2.06-.94 2.06-2.06.94zm-11 1L8.5 8.5l.94-2.06 2.06-.94-2.06-.94L8.5 2.5l-.94 2.06-2.06.94zm10 10l.94 2.06.94-2.06 2.06-.94-2.06-.94-.94-2.06-.94 2.06-2.06.94z\"/><path d=\"M17.41 7.96l-1.37-1.37c-.4-.4-.92-.59-1.43-.59-.52 0-1.04.2-1.43.59L10.3 9.45l-7.72 7.72c-.78.78-.78 2.05 0 2.83L4 21.41c.39.39.9.59 1.41.59.51 0 1.02-.2 1.41-.59l7.78-7.78 2.81-2.81c.8-.78.8-2.07 0-2.86zM5.41 20L4 18.59l7.72-7.72 1.47 1.35L5.41 20z\"/>\n",
              "  </svg>\n",
              "      </button>\n",
              "      \n",
              "  <style>\n",
              "    .colab-df-container {\n",
              "      display:flex;\n",
              "      flex-wrap:wrap;\n",
              "      gap: 12px;\n",
              "    }\n",
              "\n",
              "    .colab-df-convert {\n",
              "      background-color: #E8F0FE;\n",
              "      border: none;\n",
              "      border-radius: 50%;\n",
              "      cursor: pointer;\n",
              "      display: none;\n",
              "      fill: #1967D2;\n",
              "      height: 32px;\n",
              "      padding: 0 0 0 0;\n",
              "      width: 32px;\n",
              "    }\n",
              "\n",
              "    .colab-df-convert:hover {\n",
              "      background-color: #E2EBFA;\n",
              "      box-shadow: 0px 1px 2px rgba(60, 64, 67, 0.3), 0px 1px 3px 1px rgba(60, 64, 67, 0.15);\n",
              "      fill: #174EA6;\n",
              "    }\n",
              "\n",
              "    [theme=dark] .colab-df-convert {\n",
              "      background-color: #3B4455;\n",
              "      fill: #D2E3FC;\n",
              "    }\n",
              "\n",
              "    [theme=dark] .colab-df-convert:hover {\n",
              "      background-color: #434B5C;\n",
              "      box-shadow: 0px 1px 3px 1px rgba(0, 0, 0, 0.15);\n",
              "      filter: drop-shadow(0px 1px 2px rgba(0, 0, 0, 0.3));\n",
              "      fill: #FFFFFF;\n",
              "    }\n",
              "  </style>\n",
              "\n",
              "      <script>\n",
              "        const buttonEl =\n",
              "          document.querySelector('#df-b65d510f-18df-4570-87d8-16af15e2b6e2 button.colab-df-convert');\n",
              "        buttonEl.style.display =\n",
              "          google.colab.kernel.accessAllowed ? 'block' : 'none';\n",
              "\n",
              "        async function convertToInteractive(key) {\n",
              "          const element = document.querySelector('#df-b65d510f-18df-4570-87d8-16af15e2b6e2');\n",
              "          const dataTable =\n",
              "            await google.colab.kernel.invokeFunction('convertToInteractive',\n",
              "                                                     [key], {});\n",
              "          if (!dataTable) return;\n",
              "\n",
              "          const docLinkHtml = 'Like what you see? Visit the ' +\n",
              "            '<a target=\"_blank\" href=https://colab.research.google.com/notebooks/data_table.ipynb>data table notebook</a>'\n",
              "            + ' to learn more about interactive tables.';\n",
              "          element.innerHTML = '';\n",
              "          dataTable['output_type'] = 'display_data';\n",
              "          await google.colab.output.renderOutput(dataTable, element);\n",
              "          const docLink = document.createElement('div');\n",
              "          docLink.innerHTML = docLinkHtml;\n",
              "          element.appendChild(docLink);\n",
              "        }\n",
              "      </script>\n",
              "    </div>\n",
              "  </div>\n",
              "  "
            ]
          },
          "metadata": {},
          "execution_count": 15
        }
      ]
    },
    {
      "cell_type": "code",
      "source": [
        "X_train = preprocess_pipeline.fit_transform(train_data[[\"Age\", \"Fare\", \"Pclass\", \"Sex\"]])"
      ],
      "metadata": {
        "id": "jXnmbcRRndjI",
        "colab": {
          "base_uri": "https://localhost:8080/"
        },
        "outputId": "a5f0b021-7cdb-4afd-88ad-c844e669349a"
      },
      "execution_count": null,
      "outputs": [
        {
          "output_type": "stream",
          "name": "stderr",
          "text": [
            "/usr/local/lib/python3.9/dist-packages/sklearn/preprocessing/_encoders.py:868: FutureWarning: `sparse` was renamed to `sparse_output` in version 1.2 and will be removed in 1.4. `sparse_output` is ignored unless you leave `sparse` to its default value.\n",
            "  warnings.warn(\n"
          ]
        }
      ]
    },
    {
      "cell_type": "code",
      "source": [
        "print(X_train[3])\n",
        "train_data.iloc[3]"
      ],
      "metadata": {
        "colab": {
          "base_uri": "https://localhost:8080/"
        },
        "id": "qP6hr8HmrOAt",
        "outputId": "12d1ccbc-c680-4079-c5a4-8902710f2d1f"
      },
      "execution_count": null,
      "outputs": [
        {
          "output_type": "stream",
          "name": "stdout",
          "text": [
            "[0.43331151 0.42073024 1.         0.         0.         1.\n",
            " 0.        ]\n"
          ]
        },
        {
          "output_type": "execute_result",
          "data": {
            "text/plain": [
              "Survived                                               1\n",
              "Pclass                                                 1\n",
              "Name        Futrelle, Mrs. Jacques Heath (Lily May Peel)\n",
              "Sex                                               female\n",
              "Age                                                 35.0\n",
              "SibSp                                                  1\n",
              "Parch                                                  0\n",
              "Ticket                                            113803\n",
              "Fare                                                53.1\n",
              "Cabin                                               C123\n",
              "Embarked                                               S\n",
              "Name: 4, dtype: object"
            ]
          },
          "metadata": {},
          "execution_count": 17
        }
      ]
    },
    {
      "cell_type": "code",
      "source": [
        "y_train = train_data[\"Survived\"]"
      ],
      "metadata": {
        "id": "F60QzEq_uSaB"
      },
      "execution_count": null,
      "outputs": []
    },
    {
      "cell_type": "markdown",
      "source": [
        "### Classification"
      ],
      "metadata": {
        "id": "usd8OeUlvBTy"
      }
    },
    {
      "cell_type": "markdown",
      "source": [
        "Stochastic Gradient Descent"
      ],
      "metadata": {
        "id": "l6vE9BokvwW9"
      }
    },
    {
      "cell_type": "code",
      "source": [
        "from sklearn.linear_model import SGDClassifier\n",
        "\n",
        "sgd = SGDClassifier(random_state=42) # stochastic GD\n",
        "sgd.fit(X_train, y_train)"
      ],
      "metadata": {
        "colab": {
          "base_uri": "https://localhost:8080/",
          "height": 74
        },
        "id": "zBj2Qx0svA9O",
        "outputId": "3ab682c8-236c-477c-d83c-a5ed45d46c4d"
      },
      "execution_count": null,
      "outputs": [
        {
          "output_type": "execute_result",
          "data": {
            "text/plain": [
              "SGDClassifier(random_state=42)"
            ],
            "text/html": [
              "<style>#sk-container-id-1 {color: black;background-color: white;}#sk-container-id-1 pre{padding: 0;}#sk-container-id-1 div.sk-toggleable {background-color: white;}#sk-container-id-1 label.sk-toggleable__label {cursor: pointer;display: block;width: 100%;margin-bottom: 0;padding: 0.3em;box-sizing: border-box;text-align: center;}#sk-container-id-1 label.sk-toggleable__label-arrow:before {content: \"▸\";float: left;margin-right: 0.25em;color: #696969;}#sk-container-id-1 label.sk-toggleable__label-arrow:hover:before {color: black;}#sk-container-id-1 div.sk-estimator:hover label.sk-toggleable__label-arrow:before {color: black;}#sk-container-id-1 div.sk-toggleable__content {max-height: 0;max-width: 0;overflow: hidden;text-align: left;background-color: #f0f8ff;}#sk-container-id-1 div.sk-toggleable__content pre {margin: 0.2em;color: black;border-radius: 0.25em;background-color: #f0f8ff;}#sk-container-id-1 input.sk-toggleable__control:checked~div.sk-toggleable__content {max-height: 200px;max-width: 100%;overflow: auto;}#sk-container-id-1 input.sk-toggleable__control:checked~label.sk-toggleable__label-arrow:before {content: \"▾\";}#sk-container-id-1 div.sk-estimator input.sk-toggleable__control:checked~label.sk-toggleable__label {background-color: #d4ebff;}#sk-container-id-1 div.sk-label input.sk-toggleable__control:checked~label.sk-toggleable__label {background-color: #d4ebff;}#sk-container-id-1 input.sk-hidden--visually {border: 0;clip: rect(1px 1px 1px 1px);clip: rect(1px, 1px, 1px, 1px);height: 1px;margin: -1px;overflow: hidden;padding: 0;position: absolute;width: 1px;}#sk-container-id-1 div.sk-estimator {font-family: monospace;background-color: #f0f8ff;border: 1px dotted black;border-radius: 0.25em;box-sizing: border-box;margin-bottom: 0.5em;}#sk-container-id-1 div.sk-estimator:hover {background-color: #d4ebff;}#sk-container-id-1 div.sk-parallel-item::after {content: \"\";width: 100%;border-bottom: 1px solid gray;flex-grow: 1;}#sk-container-id-1 div.sk-label:hover label.sk-toggleable__label {background-color: #d4ebff;}#sk-container-id-1 div.sk-serial::before {content: \"\";position: absolute;border-left: 1px solid gray;box-sizing: border-box;top: 0;bottom: 0;left: 50%;z-index: 0;}#sk-container-id-1 div.sk-serial {display: flex;flex-direction: column;align-items: center;background-color: white;padding-right: 0.2em;padding-left: 0.2em;position: relative;}#sk-container-id-1 div.sk-item {position: relative;z-index: 1;}#sk-container-id-1 div.sk-parallel {display: flex;align-items: stretch;justify-content: center;background-color: white;position: relative;}#sk-container-id-1 div.sk-item::before, #sk-container-id-1 div.sk-parallel-item::before {content: \"\";position: absolute;border-left: 1px solid gray;box-sizing: border-box;top: 0;bottom: 0;left: 50%;z-index: -1;}#sk-container-id-1 div.sk-parallel-item {display: flex;flex-direction: column;z-index: 1;position: relative;background-color: white;}#sk-container-id-1 div.sk-parallel-item:first-child::after {align-self: flex-end;width: 50%;}#sk-container-id-1 div.sk-parallel-item:last-child::after {align-self: flex-start;width: 50%;}#sk-container-id-1 div.sk-parallel-item:only-child::after {width: 0;}#sk-container-id-1 div.sk-dashed-wrapped {border: 1px dashed gray;margin: 0 0.4em 0.5em 0.4em;box-sizing: border-box;padding-bottom: 0.4em;background-color: white;}#sk-container-id-1 div.sk-label label {font-family: monospace;font-weight: bold;display: inline-block;line-height: 1.2em;}#sk-container-id-1 div.sk-label-container {text-align: center;}#sk-container-id-1 div.sk-container {/* jupyter's `normalize.less` sets `[hidden] { display: none; }` but bootstrap.min.css set `[hidden] { display: none !important; }` so we also need the `!important` here to be able to override the default hidden behavior on the sphinx rendered scikit-learn.org. See: https://github.com/scikit-learn/scikit-learn/issues/21755 */display: inline-block !important;position: relative;}#sk-container-id-1 div.sk-text-repr-fallback {display: none;}</style><div id=\"sk-container-id-1\" class=\"sk-top-container\"><div class=\"sk-text-repr-fallback\"><pre>SGDClassifier(random_state=42)</pre><b>In a Jupyter environment, please rerun this cell to show the HTML representation or trust the notebook. <br />On GitHub, the HTML representation is unable to render, please try loading this page with nbviewer.org.</b></div><div class=\"sk-container\" hidden><div class=\"sk-item\"><div class=\"sk-estimator sk-toggleable\"><input class=\"sk-toggleable__control sk-hidden--visually\" id=\"sk-estimator-id-1\" type=\"checkbox\" checked><label for=\"sk-estimator-id-1\" class=\"sk-toggleable__label sk-toggleable__label-arrow\">SGDClassifier</label><div class=\"sk-toggleable__content\"><pre>SGDClassifier(random_state=42)</pre></div></div></div></div></div>"
            ]
          },
          "metadata": {},
          "execution_count": 19
        }
      ]
    },
    {
      "cell_type": "code",
      "source": [
        "from sklearn.model_selection import cross_val_score\n",
        "\n",
        "cross_val_score(sgd, X_train, y_train, cv=5, scoring=\"accuracy\").mean()"
      ],
      "metadata": {
        "colab": {
          "base_uri": "https://localhost:8080/"
        },
        "id": "A1UPrPaRvO-1",
        "outputId": "97e98108-9b88-40b7-e7c9-0579f5c5da74"
      },
      "execution_count": null,
      "outputs": [
        {
          "output_type": "execute_result",
          "data": {
            "text/plain": [
              "0.775594752369594"
            ]
          },
          "metadata": {},
          "execution_count": 20
        }
      ]
    },
    {
      "cell_type": "markdown",
      "source": [
        "![image.png](data:image/png;base64,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)"
      ],
      "metadata": {
        "id": "AcLPYRmEvofS"
      }
    },
    {
      "cell_type": "code",
      "source": [
        "from sklearn.tree import DecisionTreeClassifier\n",
        "from sklearn.ensemble import RandomForestClassifier\n",
        "from sklearn.svm import SVC\n",
        "from sklearn.linear_model import LogisticRegression\n",
        "\n",
        "dt = DecisionTreeClassifier(max_depth=5)\n",
        "dt.fit(X_train, y_train)\n",
        "\n",
        "rfc = RandomForestClassifier(max_depth=5, n_estimators=10, max_features=1)\n",
        "rfc.fit(X_train, y_train)\n",
        "\n",
        "svc = SVC(gamma=\"auto\")\n",
        "svc.fit(X_train, y_train)\n",
        "\n",
        "log = LogisticRegression(max_iter=1000, random_state=42)"
      ],
      "metadata": {
        "id": "miLQIAuBv36T"
      },
      "execution_count": null,
      "outputs": []
    },
    {
      "cell_type": "code",
      "source": [
        "cross_val_score(dt, X_train, y_train, cv=5, scoring=\"accuracy\").mean() # best accuracy"
      ],
      "metadata": {
        "colab": {
          "base_uri": "https://localhost:8080/"
        },
        "id": "211yd70RxvsU",
        "outputId": "8c1c2af9-9773-4dfd-fd90-7ce9b5b6e142"
      },
      "execution_count": null,
      "outputs": [
        {
          "output_type": "execute_result",
          "data": {
            "text/plain": [
              "0.8170673529596385"
            ]
          },
          "metadata": {},
          "execution_count": 22
        }
      ]
    },
    {
      "cell_type": "code",
      "source": [
        "cross_val_score(rfc, X_train, y_train, cv=5, scoring=\"accuracy\").mean()"
      ],
      "metadata": {
        "colab": {
          "base_uri": "https://localhost:8080/"
        },
        "id": "UFIQ8Tjjxvvl",
        "outputId": "b8a37cff-7537-43ca-8b21-8fa10e0a0ba6"
      },
      "execution_count": null,
      "outputs": [
        {
          "output_type": "execute_result",
          "data": {
            "text/plain": [
              "0.8126043562864854"
            ]
          },
          "metadata": {},
          "execution_count": 23
        }
      ]
    },
    {
      "cell_type": "code",
      "source": [
        "cross_val_score(svc, X_train, y_train, cv=5, scoring=\"accuracy\").mean()"
      ],
      "metadata": {
        "colab": {
          "base_uri": "https://localhost:8080/"
        },
        "id": "FYCd1dP5ypZu",
        "outputId": "52325be4-0af2-4837-d0ad-ae681d879a67"
      },
      "execution_count": null,
      "outputs": [
        {
          "output_type": "execute_result",
          "data": {
            "text/plain": [
              "0.7890214048082355"
            ]
          },
          "metadata": {},
          "execution_count": 24
        }
      ]
    },
    {
      "cell_type": "code",
      "source": [
        "cross_val_score(log, X_train, y_train, cv=5, scoring=\"accuracy\").mean()"
      ],
      "metadata": {
        "colab": {
          "base_uri": "https://localhost:8080/"
        },
        "id": "GPfVPzgpD56q",
        "outputId": "dc4881e9-8ec4-45f1-b13c-5873b0e7e766"
      },
      "execution_count": null,
      "outputs": [
        {
          "output_type": "execute_result",
          "data": {
            "text/plain": [
              "0.7867491055175444"
            ]
          },
          "metadata": {},
          "execution_count": 25
        }
      ]
    },
    {
      "cell_type": "markdown",
      "source": [
        "Source for Classifiers: https://scikit-learn.org/stable/auto_examples/classification/plot_classifier_comparison.html"
      ],
      "metadata": {
        "id": "3Xh0bGDSxm0I"
      }
    },
    {
      "cell_type": "markdown",
      "source": [
        "### Prediction"
      ],
      "metadata": {
        "id": "L4lpm_1DzqsG"
      }
    },
    {
      "cell_type": "code",
      "source": [
        "X_test = preprocess_pipeline.fit_transform(test_data[[\"Age\", \"Fare\", \"Pclass\", \"Sex\"]])\n",
        "y_pred = dt.predict(X_test)"
      ],
      "metadata": {
        "id": "Bv5WJJrdz4sZ",
        "colab": {
          "base_uri": "https://localhost:8080/"
        },
        "outputId": "15de6102-390e-45c6-c3dd-115b82b111d9"
      },
      "execution_count": null,
      "outputs": [
        {
          "output_type": "stream",
          "name": "stderr",
          "text": [
            "/usr/local/lib/python3.9/dist-packages/sklearn/preprocessing/_encoders.py:868: FutureWarning: `sparse` was renamed to `sparse_output` in version 1.2 and will be removed in 1.4. `sparse_output` is ignored unless you leave `sparse` to its default value.\n",
            "  warnings.warn(\n"
          ]
        }
      ]
    },
    {
      "cell_type": "code",
      "source": [
        "print(test_data.iloc[4])\n",
        "print(X_test[4])\n",
        "print(y_pred[4])"
      ],
      "metadata": {
        "colab": {
          "base_uri": "https://localhost:8080/"
        },
        "id": "PbcV6G-OGNmb",
        "outputId": "8017a9e9-96c9-4226-804b-874b4bea4060"
      },
      "execution_count": null,
      "outputs": [
        {
          "output_type": "stream",
          "name": "stdout",
          "text": [
            "Pclass                                                 3\n",
            "Name        Hirvonen, Mrs. Alexander (Helga E Lindqvist)\n",
            "Sex                                               female\n",
            "Age                                                 22.0\n",
            "SibSp                                                  1\n",
            "Parch                                                  1\n",
            "Ticket                                           3101298\n",
            "Fare                                             12.2875\n",
            "Cabin                                                NaN\n",
            "Embarked                                               S\n",
            "Name: 896, dtype: object\n",
            "[-0.59890794 -0.4174915   0.          0.          1.          1.\n",
            "  0.        ]\n",
            "1\n"
          ]
        }
      ]
    },
    {
      "cell_type": "markdown",
      "source": [
        "#EKSTRA"
      ],
      "metadata": {
        "id": "QI0Cc-A4tPMk"
      }
    },
    {
      "cell_type": "markdown",
      "source": [
        "kod 1\n",
        "--\n",
        "Bu kod, bir Pipeline nesnesi oluşturarak, bir dizi veri ön işleme işlemi gerçekleştiriyor. Pipeline nesnesi, verileri sırayla birkaç adımdan geçirir ve sonunda bir sonuç verir.\n",
        "\n",
        "num_pipeline olarak adlandırılan bu nesne, iki adımdan oluşur:\n",
        "\n",
        "SimpleImputer : Eksik verileri ortadan kaldırmak veya doldurmak için kullanılan bir işlemci. Bu örnekte, eksik verilerin ortalaması yerine, medyanı kullanılarak doldurulur.\n",
        "\n",
        "StandardScaler : Özellikleri standartlaştırmak için kullanılan bir işlemci. Standartlaştırma, her özelliğin ortalama değerinin çıkarılması ve standart sapmasıyla bölünmesi yoluyla gerçekleştirilir. Bu, farklı özelliklerin ölçeklerindeki farklılıkları giderir ve modelin daha iyi performans göstermesini sağlar.\n",
        "\n",
        "Bu pipeline, genellikle sayısal özelliklerin bulunduğu bir veri kümesinde kullanılır. num_pipeline daha sonra bir ColumnTransformer nesnesiyle birleştirilebilir, böylece farklı tipte özellikleri bir arada işleyebilirsiniz."
      ],
      "metadata": {
        "id": "0GGwnl62zisI"
      }
    },
    {
      "cell_type": "markdown",
      "source": [
        "Bu bir veri işleme pipeline'ıdır ve kategorik özelliklerin işlenmesi için tasarlanmıştır. Yapılandırılmış bir şekilde veriyi işleyerek, sonuçta daha iyi bir model performansı elde edilmesine yardımcı olur. Pipeline, bir dizi adımdan oluşur ve her bir adımın birbirini takip eden bir şekilde gerçekleştirilmesi için tasarlanmıştır.\n",
        "\n",
        "Bu özel pipeline, üç adım içerir:\n",
        "\n",
        "* OrdinalEncoder: Bu adım, kategorik özellikleri sayısal değerlere dönüştürür. Bu dönüşüm, özellikleri modele beslemek için gereken sayısal değerlere dönüştürür. Bu adım, özelliklerin sıralı olması durumunda özellik değerlerini sırayla kodlamak için kullanılır.\n",
        "\n",
        "* SimpleImputer: Bu adım, eksik verileri tamamlamak için kullanılır. \"most_frequent\" stratejisi kullanılır, yani eksik verilerin yerine en sık görülen değer atanır. Bu, modele daha doğru bir veri kümesi sağlar.\n",
        "\n",
        "* OneHotEncoder: Bu adım, kategorik özellikleri ikili bir matrise dönüştürür. Bu, özellikleri modele beslemek için gereken sayısal değerlere dönüştürür. Bu adım, kategorik özelliklerin sıralı olmadığı durumlarda kullanılır.\n",
        "\n",
        "\n",
        "Bu pipeline, sırasıyla kategorik özellikleri sayısal değerlere dönüştürür, eksik verileri tamamlar ve son olarak ikili bir matris olarak kodlar. Bu sayede, modele beslemek için uygun bir veri kümesi oluşturulur.\n",
        "\n",
        "\n",
        "---\n",
        "İkili matris kodlama, kategorik özelliklerin işlenmesi için yaygın bir yöntemdir. Bu yöntemde, her bir kategorik özellik ikili bir matrise dönüştürülür. Bu, özellikleri modele beslemek için gereken sayısal değerlere dönüştürür ve ayrıca özelliklerin birbirleriyle karşılaştırılması ve ilişkilendirilmesi için de kullanılır.\n",
        "\n",
        "İkili matris kodlama, her bir kategorik özellik için bir sütun oluşturur ve her bir özellik değeri için bir satır ekler. Özellik değeri, sütunun ilgili hücresinde 1 olarak kodlanır ve diğer hücrelerde 0 olarak kodlanır. Bu sayede, her özellik değeri benzersiz bir ikili kod elde eder.\n",
        "\n",
        "Bu kodlama yöntemi, özelliklerin sayısal olmadığı durumlarda kullanılır. Örneğin, bir özellik \"renk\" olabilir ve bu özelliğin değerleri \"kırmızı\", \"mavi\" ve \"yeşil\" gibi kategorik değerler olabilir. Bu değerlerin sayısal bir değere dönüştürülmesi uygun değildir çünkü bu değerler birbirleriyle doğrudan karşılaştırılamazlar. Ancak, ikili matris kodlama yöntemi kullanılarak her bir özellik değeri benzersiz bir ikili kod elde edilebilir ve bu kodlar sayısal bir forma dönüştürülebilir.\n",
        "\n",
        "Bu nedenle, ikili matris kodlama yöntemi, kategorik özelliklerin işlenmesinde yaygın olarak kullanılır ve bu sayede modele beslemek için uygun bir veri kümesi elde edilir."
      ],
      "metadata": {
        "id": "03GBO94nr72K"
      }
    },
    {
      "cell_type": "markdown",
      "source": [
        "![image.png](data:image/png;base64,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)"
      ],
      "metadata": {
        "id": "x-sH-Z9stJeJ"
      }
    },
    {
      "cell_type": "markdown",
      "source": [
        "![image.png](data:image/png;base64,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)"
      ],
      "metadata": {
        "id": "Eb8RX_MntI8y"
      }
    },
    {
      "cell_type": "markdown",
      "source": [
        "OneHotEncoder ve OrdinalEncoder, kategorik özelliklerin sayısal değerlere dönüştürülmesi için farklı yaklaşımlar kullanır.\n",
        "\n",
        "OrdinalEncoder, kategorik özellikleri sıralı bir şekilde sayısal değerlere dönüştürürken, OneHotEncoder her kategori için farklı bir sütun veya dizi oluşturarak sayısal değerlere dönüştürür.\n",
        "\n",
        "Bu nedenle, eğer bir özellik sıralıysa ve sırasının bir anlamı varsa, OrdinalEncoder kullanmak daha uygun olabilir. Ancak, özellik sırasızsa ve her kategori eşit öneme sahipse, OneHotEncoder kullanmak daha uygun olabilir.\n",
        "\n",
        "Bununla birlikte, bazı durumlarda, özelliklerin hem sırası hem de ayrık kategorileri varsa, her iki encoder da birlikte kullanılabilir. Ancak bu durumda, dönüştürülmüş özelliklerin anlamlı bir şekilde yorumlanması zor olabilir ve birbirleriyle çelişen bilgiler içerebilir. Bu nedenle, her zaman özelliklere uygun dönüştürme yöntemleri seçmeye çalışmak önemlidir.\n",
        "\n",
        "---\n",
        "YANİ SAYILARIN SIRALAMA ANLAMLARI DA VARSA ÖNEMLİ\n",
        "\n"
      ],
      "metadata": {
        "id": "54XCx1_-4gFO"
      }
    }
  ]
}